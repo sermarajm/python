{
 "cells": [
  {
   "cell_type": "markdown",
   "id": "a14cd39b-7bb6-4f88-b4a1-a238136cf7a1",
   "metadata": {},
   "source": [
    "# Lambda Function"
   ]
  },
  {
   "cell_type": "code",
   "execution_count": null,
   "id": "7842f7ae-a6dd-4843-9623-b3a3d33ed43f",
   "metadata": {},
   "outputs": [],
   "source": [
    "#lambda arguments : expression\n"
   ]
  },
  {
   "cell_type": "code",
   "execution_count": 1,
   "id": "cceb62ed-f76a-4760-a1dd-4a025a7bbe39",
   "metadata": {},
   "outputs": [
    {
     "data": {
      "text/plain": [
       "15"
      ]
     },
     "execution_count": 1,
     "metadata": {},
     "output_type": "execute_result"
    }
   ],
   "source": [
    "num1=lambda a:a+10\n",
    "num1(5)"
   ]
  },
  {
   "cell_type": "code",
   "execution_count": 1,
   "id": "8e4fc09b-4b96-45b5-be29-16b40a3e84c1",
   "metadata": {},
   "outputs": [
    {
     "name": "stdout",
     "output_type": "stream",
     "text": [
      "20\n"
     ]
    }
   ],
   "source": [
    "def add(a):\n",
    "    print(a+10)\n",
    "add(10)\n"
   ]
  },
  {
   "cell_type": "code",
   "execution_count": 2,
   "id": "89b4e737-84ff-4574-a38f-3bd329beee0e",
   "metadata": {},
   "outputs": [
    {
     "data": {
      "text/plain": [
       "36"
      ]
     },
     "execution_count": 2,
     "metadata": {},
     "output_type": "execute_result"
    }
   ],
   "source": [
    "add=lambda a,b,c:a+b+c\n",
    "add(10,17,9)\n",
    "    "
   ]
  },
  {
   "cell_type": "code",
   "execution_count": 2,
   "id": "d93313dc-cbda-4407-872e-c3d5987ff201",
   "metadata": {},
   "outputs": [
    {
     "data": {
      "text/plain": [
       "'odd'"
      ]
     },
     "execution_count": 2,
     "metadata": {},
     "output_type": "execute_result"
    }
   ],
   "source": [
    "check=lambda a: \"even\" if a%2==0 else \"odd\"\n",
    "check(3)\n"
   ]
  },
  {
   "cell_type": "code",
   "execution_count": 4,
   "id": "9ccd0e1f-bf84-4cc9-a9e5-d81d87eb21dd",
   "metadata": {},
   "outputs": [
    {
     "name": "stdout",
     "output_type": "stream",
     "text": [
      "392\n"
     ]
    }
   ],
   "source": [
    "def add(n):\n",
    "    return lambda a:a*n\n",
    "k=add(49)\n",
    "# print(k)\n",
    "print(k(8))"
   ]
  },
  {
   "cell_type": "code",
   "execution_count": 19,
   "id": "09622498-cfa4-4946-b934-7063eb598028",
   "metadata": {},
   "outputs": [
    {
     "name": "stdout",
     "output_type": "stream",
     "text": [
      "[1, 4, 9, 16, 25]\n"
     ]
    }
   ],
   "source": [
    "numbers = [1, 2, 3, 4, 5]\n",
    "squared = list(map(lambda x: x ** 2, numbers))\n",
    "print(squared)\n"
   ]
  },
  {
   "cell_type": "code",
   "execution_count": 27,
   "id": "16288746-dc3a-4ae2-903f-713bcecb7558",
   "metadata": {},
   "outputs": [
    {
     "data": {
      "text/plain": [
       "[4, 8, 10]"
      ]
     },
     "execution_count": 27,
     "metadata": {},
     "output_type": "execute_result"
    }
   ],
   "source": [
    "l=[1,3,4,5,7,8,10]\n",
    "out=list(filter(lambda i:i%2==0,l))\n",
    "out"
   ]
  },
  {
   "cell_type": "code",
   "execution_count": null,
   "id": "b90d8d8f-bb61-4988-97a7-e1faad840412",
   "metadata": {},
   "outputs": [],
   "source": [
    "l=[1,3,4,5,7,8,10]\n",
    "su"
   ]
  }
 ],
 "metadata": {
  "kernelspec": {
   "display_name": "Python 3 (ipykernel)",
   "language": "python",
   "name": "python3"
  },
  "language_info": {
   "codemirror_mode": {
    "name": "ipython",
    "version": 3
   },
   "file_extension": ".py",
   "mimetype": "text/x-python",
   "name": "python",
   "nbconvert_exporter": "python",
   "pygments_lexer": "ipython3",
   "version": "3.12.4"
  }
 },
 "nbformat": 4,
 "nbformat_minor": 5
}
