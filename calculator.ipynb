{
 "cells": [
  {
   "cell_type": "code",
   "execution_count": 6,
   "id": "81a8257f-8787-4a8d-bcc5-7808fe8c0135",
   "metadata": {},
   "outputs": [
    {
     "name": "stdin",
     "output_type": "stream",
     "text": [
      " 676\n",
      "symbols=+,-,/,* -\n",
      " 1\n"
     ]
    },
    {
     "name": "stdout",
     "output_type": "stream",
     "text": [
      "675.0\n"
     ]
    }
   ],
   "source": [
    "def add(a,b):\n",
    "    c=a+b\n",
    "    return c\n",
    "\n",
    "def sub(a,b):\n",
    "    c=a-b\n",
    "    return c\n",
    "\n",
    "def mul(a,b):\n",
    "    c=a*b\n",
    "    return c\n",
    "\n",
    "def div(a,b):\n",
    "    c=a/b\n",
    "    return c\n",
    "\n",
    "num1=float(input())\n",
    "operation=(input(\"symbols=+,-,/,*\"))\n",
    "num2=float(input())\n",
    "if operation ==\"+\":\n",
    "    print(add(num1,num2))\n",
    "elif operation ==\"-\":\n",
    "    print(sub(num1,num2))\n",
    "elif operation ==\"*\":\n",
    "    print(mul(num1,num2))\n",
    "elif operation ==\"/\":\n",
    "    print(div(num1,num2))"
   ]
  },
  {
   "cell_type": "code",
   "execution_count": null,
   "id": "0bab6017-7ac8-44f9-a1a4-a7d308fdae34",
   "metadata": {},
   "outputs": [],
   "source": []
  }
 ],
 "metadata": {
  "kernelspec": {
   "display_name": "Python 3 (ipykernel)",
   "language": "python",
   "name": "python3"
  },
  "language_info": {
   "codemirror_mode": {
    "name": "ipython",
    "version": 3
   },
   "file_extension": ".py",
   "mimetype": "text/x-python",
   "name": "python",
   "nbconvert_exporter": "python",
   "pygments_lexer": "ipython3",
   "version": "3.12.7"
  }
 },
 "nbformat": 4,
 "nbformat_minor": 5
}
