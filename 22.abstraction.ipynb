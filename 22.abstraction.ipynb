{
 "cells": [
  {
   "cell_type": "markdown",
   "id": "376f16ff-e9b5-4a22-8e6b-244e899ed739",
   "metadata": {},
   "source": [
    "# Abstraction means hiding complex implementation details and showing only the essential features of an object.\n",
    "It helps in reducing programming complexity and increases code reusability and maintainability."
   ]
  },
  {
   "cell_type": "code",
   "execution_count": 1,
   "id": "e1b5f9b6-e4ef-47c6-ab1f-2a70343dee7c",
   "metadata": {},
   "outputs": [
    {
     "name": "stdout",
     "output_type": "stream",
     "text": [
      "dog have a 4 legs\n"
     ]
    }
   ],
   "source": [
    "from abc import ABC, abstractmethod\n",
    "\n",
    "class animal:\n",
    "    # def legs(self):\n",
    "    #     pass\n",
    "    def sounds(self):\n",
    "        pass\n",
    "    def test(self):\n",
    "        pass\n",
    "\n",
    "class dog(animal):\n",
    "     def legs(self):\n",
    "        print(\"dog have a 4 legs\")\n",
    "     def sounds(self):\n",
    "        print(\"wow\")\n",
    "         \n",
    "class cat(animal):\n",
    "     def legs(self):\n",
    "        print(\"cat have a 4 legs\")\n",
    "     def sounds(self):\n",
    "        print(\"Meow\")\n",
    "\n",
    "info=dog()\n",
    "info.legs()\n"
   ]
  },
  {
   "cell_type": "code",
   "execution_count": null,
   "id": "7e570e65-a37e-4344-9008-26c62d696f36",
   "metadata": {},
   "outputs": [],
   "source": [
    "from abc import ABC, abstractmethod\n",
    "\n",
    "class animal:\n",
    "    \n",
    "    def legs(self):\n",
    "        pass\n",
    "    def sounds(self):\n",
    "        pass\n",
    "    def test(self):\n",
    "        pass\n",
    "\n",
    "class dog(animal):\n",
    "     def sounds(self):\n",
    "        print(\"wow\")\n",
    "         \n",
    "class cat(animal):\n",
    "     def legs(self):\n",
    "        print(\"cat have a 4 legs\")\n",
    "     def sounds(self):\n",
    "        print(\"Meow\")\n",
    "\n",
    "info=dog()\n",
    "info.legs()\n"
   ]
  },
  {
   "cell_type": "code",
   "execution_count": null,
   "id": "adbf051c-2a0b-4076-821d-d87286f1bb4d",
   "metadata": {},
   "outputs": [],
   "source": [
    "from abc import ABC, abstractmethod\n",
    "\n",
    "class animal(ABC):\n",
    "    def legs(self):\n",
    "        pass\n",
    "    @abstractmethod\n",
    "    def sounds(self):\n",
    "        pass\n",
    "    # @abstractmethod\n",
    "    # def test(self):\n",
    "    #     pass\n",
    "\n",
    "class dog(animal):\n",
    "     def legs(self):\n",
    "        print(\"4 legs\")\n",
    "     def sounds(self):\n",
    "        print(\"wow\")\n",
    "         \n",
    "class cat(animal):\n",
    "     def legs(self):\n",
    "        print(\"cat have a 4 legs\")\n",
    "     def sounds(self):\n",
    "        print(\"Meow\")\n",
    "\n",
    "info=dog()\n",
    "info.sounds()\n"
   ]
  },
  {
   "cell_type": "code",
   "execution_count": 3,
   "id": "3e260531-8f46-4e15-ade4-071c50cfa1c9",
   "metadata": {},
   "outputs": [
    {
     "ename": "TypeError",
     "evalue": "Can't instantiate abstract class LatheMachine without an implementation for abstract method 'start'",
     "output_type": "error",
     "traceback": [
      "\u001b[1;31m---------------------------------------------------------------------------\u001b[0m",
      "\u001b[1;31mTypeError\u001b[0m                                 Traceback (most recent call last)",
      "Cell \u001b[1;32mIn[3], line 22\u001b[0m\n\u001b[0;32m     17\u001b[0m     \u001b[38;5;28;01mdef\u001b[39;00m \u001b[38;5;21mstop\u001b[39m(\u001b[38;5;28mself\u001b[39m):\n\u001b[0;32m     18\u001b[0m         \u001b[38;5;28mprint\u001b[39m(\u001b[38;5;124m\"\u001b[39m\u001b[38;5;124mLathe Machine stopped.\u001b[39m\u001b[38;5;124m\"\u001b[39m)\n\u001b[1;32m---> 22\u001b[0m lathe \u001b[38;5;241m=\u001b[39m LatheMachine()\n\u001b[0;32m     23\u001b[0m lathe\u001b[38;5;241m.\u001b[39mstart()  \u001b[38;5;66;03m# Output: Lathe Machine started.\u001b[39;00m\n\u001b[0;32m     24\u001b[0m lathe\u001b[38;5;241m.\u001b[39mstop()\n",
      "\u001b[1;31mTypeError\u001b[0m: Can't instantiate abstract class LatheMachine without an implementation for abstract method 'start'"
     ]
    }
   ],
   "source": [
    "from abc import ABC, abstractmethod\n",
    "\n",
    "class Machine(ABC):  # Abstract base class\n",
    "    @abstractmethod\n",
    "    def start(self):\n",
    "        pass\n",
    "\n",
    "    # @abstractmethod\n",
    "    def stop(self):\n",
    "        pass\n",
    "\n",
    "\n",
    "class LatheMachine(Machine):\n",
    "    # def start(self):\n",
    "    #     print(\"Lathe Machine started.\")\n",
    "\n",
    "    def stop(self):\n",
    "        print(\"Lathe Machine stopped.\")\n",
    "\n",
    "\n",
    "\n",
    "lathe = LatheMachine()\n",
    "lathe.start()  # Output: Lathe Machine started.\n",
    "lathe.stop()   # Output: Lathe Machine stopped.\n",
    "\n",
    "\n"
   ]
  },
  {
   "cell_type": "code",
   "execution_count": null,
   "id": "a681501a-6073-41ed-b2c1-5d8e34b58834",
   "metadata": {},
   "outputs": [],
   "source": []
  }
 ],
 "metadata": {
  "kernelspec": {
   "display_name": "Python 3 (ipykernel)",
   "language": "python",
   "name": "python3"
  },
  "language_info": {
   "codemirror_mode": {
    "name": "ipython",
    "version": 3
   },
   "file_extension": ".py",
   "mimetype": "text/x-python",
   "name": "python",
   "nbconvert_exporter": "python",
   "pygments_lexer": "ipython3",
   "version": "3.12.4"
  }
 },
 "nbformat": 4,
 "nbformat_minor": 5
}
