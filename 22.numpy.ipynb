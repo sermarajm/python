{
 "cells": [
  {
   "cell_type": "markdown",
   "id": "04dac5fb-2fde-4b71-ac92-67844fbc4721",
   "metadata": {},
   "source": [
    "# NUMPY"
   ]
  },
  {
   "cell_type": "markdown",
   "id": "87179ede-9742-44ef-98b5-a93d549c7b37",
   "metadata": {},
   "source": [
    "## NumPy is a Python library.\n",
    "\n",
    "## NumPy is used for working with arrays.\n",
    "\n",
    "## NumPy is short for \"Numerical Python\"."
   ]
  },
  {
   "cell_type": "code",
   "execution_count": null,
   "id": "e01cf8cd-380a-4443-a55f-4521a56b8e36",
   "metadata": {},
   "outputs": [],
   "source": [
    "#pip install numpy"
   ]
  },
  {
   "cell_type": "code",
   "execution_count": null,
   "id": "99d2b79b-6e04-4813-8727-0f93ffd3bd28",
   "metadata": {},
   "outputs": [],
   "source": [
    "import numpy\n"
   ]
  },
  {
   "cell_type": "code",
   "execution_count": null,
   "id": "11a614d2-4124-4767-bec2-04bc7ddf462a",
   "metadata": {},
   "outputs": [],
   "source": [
    "a = numpy.array(1)\n",
    "\n",
    "print(a)"
   ]
  },
  {
   "cell_type": "code",
   "execution_count": null,
   "id": "20825c28-f0c6-4889-a52c-ce0505e25b9c",
   "metadata": {},
   "outputs": [],
   "source": [
    "print(type(a))"
   ]
  },
  {
   "cell_type": "code",
   "execution_count": null,
   "id": "fadcc439-0070-4478-8159-c3b56e3f3f43",
   "metadata": {},
   "outputs": [],
   "source": [
    "import numpy as np\n",
    "\n",
    "a=np.array([1,2,3,4,5])\n",
    "print(a)"
   ]
  },
  {
   "cell_type": "code",
   "execution_count": null,
   "id": "50bd6177-bd25-4843-98f3-a68b6e449cad",
   "metadata": {},
   "outputs": [],
   "source": [
    "import numpy as np\n",
    "\n",
    "print(np.__version__)"
   ]
  },
  {
   "cell_type": "markdown",
   "id": "c9095220-ee48-4849-9796-295d3161b62c",
   "metadata": {},
   "source": [
    "# Dimensions in Arrays\n"
   ]
  },
  {
   "cell_type": "code",
   "execution_count": null,
   "id": "49e90992-1e85-4e8e-8241-591267c58206",
   "metadata": {},
   "outputs": [],
   "source": [
    "\n",
    "#types of arrays\n",
    "\n",
    "\n",
    "# 0-D Arrays\n",
    "# 1-D Arrays\n",
    "# 2-D Arrays\n",
    "# 3-D arrays\n",
    "\n"
   ]
  },
  {
   "cell_type": "code",
   "execution_count": null,
   "id": "9db5a65c-1ec7-4d43-aa43-eaa99b212729",
   "metadata": {},
   "outputs": [],
   "source": [
    "# 0 dimens\n",
    "\n",
    "import numpy as np\n",
    "\n",
    "a = np.array(90)\n",
    "\n",
    "# print(a)\n",
    "print(a.ndim)"
   ]
  },
  {
   "cell_type": "code",
   "execution_count": null,
   "id": "602bdc6d-000b-4dc6-b38f-825193e76eef",
   "metadata": {},
   "outputs": [],
   "source": [
    "# 1 dimens\n",
    "\n",
    "import numpy as np\n",
    "\n",
    "b = np.array([1, 2, 3, 4, 5])\n",
    "\n",
    "print(b)\n",
    "print(b.ndim)"
   ]
  },
  {
   "cell_type": "code",
   "execution_count": null,
   "id": "1ef018b8-9b22-4e7e-8723-6911a685da4d",
   "metadata": {},
   "outputs": [],
   "source": [
    "# 2 dimens\n",
    "\n",
    "import numpy as np\n",
    "\n",
    "c = np.array([[1, 2, 3, 4, 5],[6,7,8,9,10]])\n",
    "\n",
    "print(c.ndim)\n",
    "# print(c.ndim)"
   ]
  },
  {
   "cell_type": "code",
   "execution_count": null,
   "id": "203e6661-a000-43a4-a30d-44bfa87771a2",
   "metadata": {},
   "outputs": [],
   "source": [
    "# 2 dimens\n",
    "\n",
    "import numpy as np\n",
    "\n",
    "c = np.array([[1],[2],[3]])\n",
    "\n",
    "print(c)\n",
    "print(c.ndim)"
   ]
  },
  {
   "cell_type": "code",
   "execution_count": null,
   "id": "3b6b4a98-2664-422a-b5e0-b3a57594aa96",
   "metadata": {},
   "outputs": [],
   "source": [
    "# 3 dimens\n",
    "\n",
    "import numpy as np\n",
    "\n",
    "d = np.array([[[1, 2, 3, 4, 5],[6,7,8,9,10]],[[1, 2, 3, 4, 5],[6,7,8,9,10]]])\n",
    "\n",
    "print(d)\n",
    "print(d.ndim)"
   ]
  },
  {
   "cell_type": "code",
   "execution_count": null,
   "id": "01aa3912-4389-4b5f-acfa-cff6b7b02906",
   "metadata": {},
   "outputs": [],
   "source": [
    "print(a.ndim)\n",
    "print(b.ndim)\n",
    "print(c.ndim)\n",
    "print(d.ndim)"
   ]
  },
  {
   "cell_type": "markdown",
   "id": "fcbabd1c-0989-4b9b-b794-66f5d25cbf40",
   "metadata": {},
   "source": [
    "# array indexing"
   ]
  },
  {
   "cell_type": "code",
   "execution_count": 2,
   "id": "6d7489ab-4725-46c5-b7a9-42f6dcccb391",
   "metadata": {},
   "outputs": [
    {
     "name": "stdout",
     "output_type": "stream",
     "text": [
      "56\n"
     ]
    }
   ],
   "source": [
    "import numpy as np\n",
    "\n",
    "a = np.array([1, 2, 3, 4,90,879,56,45,])\n",
    "\n",
    "print(a[6])"
   ]
  },
  {
   "cell_type": "code",
   "execution_count": null,
   "id": "e32f41cd-b4f4-4446-a95c-8866ebff6fb9",
   "metadata": {},
   "outputs": [],
   "source": [
    "l=[[1,3],[5,9,89],[3,4,5]]\n",
    "l[1][0]"
   ]
  },
  {
   "cell_type": "code",
   "execution_count": null,
   "id": "aa605652-bba1-438a-abfd-34a135974d3e",
   "metadata": {},
   "outputs": [],
   "source": [
    "a = np.array([[1,8],[5,9]])\n",
    "print(a[0,1])"
   ]
  },
  {
   "cell_type": "code",
   "execution_count": 4,
   "id": "0482cc26-871e-45c7-abec-34db9084a55f",
   "metadata": {},
   "outputs": [
    {
     "data": {
      "text/plain": [
       "2"
      ]
     },
     "execution_count": 4,
     "metadata": {},
     "output_type": "execute_result"
    }
   ],
   "source": [
    "d = np.array([[[1, 2, 3, 4, 5],[6,17,18,19,22]],[[1, 2, 3, 4, 5],[6,7,8,9,10]]])\n",
    "d[1,0,1]"
   ]
  },
  {
   "cell_type": "code",
   "execution_count": null,
   "id": "765ff12a-8335-4f4f-9357-1d262a6dcd21",
   "metadata": {},
   "outputs": [],
   "source": [
    "d[1,0,3]"
   ]
  },
  {
   "cell_type": "code",
   "execution_count": null,
   "id": "be59a67d-c96d-4145-b36e-729edd696eac",
   "metadata": {},
   "outputs": [],
   "source": [
    "d[1]"
   ]
  },
  {
   "cell_type": "code",
   "execution_count": null,
   "id": "6fcde763-322b-44ca-899d-9f09bd53be92",
   "metadata": {},
   "outputs": [],
   "source": [
    "d[1,1]"
   ]
  },
  {
   "cell_type": "code",
   "execution_count": null,
   "id": "72b182c9-a3e6-4c44-a2bf-f6f6abfd62b3",
   "metadata": {},
   "outputs": [],
   "source": [
    "d[1,1,0]"
   ]
  },
  {
   "cell_type": "markdown",
   "id": "f6172aa5-849b-4df0-9d4d-f8ae9bb15cf0",
   "metadata": {},
   "source": [
    "# array slicing"
   ]
  },
  {
   "cell_type": "code",
   "execution_count": null,
   "id": "f1ea11e0-5b31-4dc9-837b-33022806c85c",
   "metadata": {},
   "outputs": [],
   "source": [
    "# We pass slice instead of index like this: [start:end].\n",
    "# We can also define the step, like this: [start:end:step].\n"
   ]
  },
  {
   "cell_type": "code",
   "execution_count": null,
   "id": "1e167484-4477-4eb9-92a3-d9b647159a96",
   "metadata": {},
   "outputs": [],
   "source": [
    "import numpy as np\n",
    "\n",
    "a = np.array([1, 2, 3, 4, 5, 6, 7])\n",
    "\n",
    "print(a[1:5])"
   ]
  },
  {
   "cell_type": "code",
   "execution_count": null,
   "id": "2fd6233c-d595-4a5f-87ac-127aea791646",
   "metadata": {},
   "outputs": [],
   "source": [
    "import numpy as np\n",
    "\n",
    "b = np.array([1, 2, 3, 4, 5, 6, 7])\n",
    "\n",
    "print(b[4:])"
   ]
  },
  {
   "cell_type": "code",
   "execution_count": null,
   "id": "8ba4eb76-1acc-4723-889a-ca9236105a77",
   "metadata": {},
   "outputs": [],
   "source": [
    "import numpy as np\n",
    "\n",
    "c = np.array([1, 2, 3, 4, 5, 6, 7])\n",
    "\n",
    "print(c[:4])\n"
   ]
  },
  {
   "cell_type": "code",
   "execution_count": null,
   "id": "c2f7750c-b86d-4784-b02b-47cfda5f8863",
   "metadata": {},
   "outputs": [],
   "source": [
    "import numpy as np\n",
    "\n",
    "arr = np.array([1, 2, 3, 4, 5, 6, 7])\n",
    "\n",
    "print(arr[-3:-1])"
   ]
  },
  {
   "cell_type": "code",
   "execution_count": null,
   "id": "b2da420c-cc13-4c53-9f38-f7d59b138099",
   "metadata": {},
   "outputs": [],
   "source": [
    "import numpy as np\n",
    "\n",
    "arr = np.array([1, 2, 3, 4, 5, 6, 7])\n",
    "\n",
    "print(arr[:-1:2])"
   ]
  },
  {
   "cell_type": "code",
   "execution_count": null,
   "id": "acede3db-ac74-4150-9a54-55f12ed4c6cb",
   "metadata": {},
   "outputs": [],
   "source": [
    "import numpy as np\n",
    "d = np.array([[[1, 2, 3, 4, 5],[6,7,8,9,10]],[[11, 12, 13, 14, 15],[16,17,18,19,20]]])\n",
    "d[0:2,1,1:4]\n"
   ]
  },
  {
   "cell_type": "code",
   "execution_count": null,
   "id": "442a691d-e3ce-4a81-9e21-de98b3a7f129",
   "metadata": {},
   "outputs": [],
   "source": [
    "import numpy as np\n",
    "\n",
    "a = np.array([[1, 2, 3, 4],[5,6,7,8]])\n",
    "a[0,1:]"
   ]
  },
  {
   "cell_type": "code",
   "execution_count": null,
   "id": "c9fc8c12-aa24-4200-9e9e-4ab058c4de56",
   "metadata": {},
   "outputs": [],
   "source": [
    "d = np.array([[[45,67,89,23],[6,7,8,9]],[[19, 52, 13, 19],[34,90,45,19]]])\n",
    "d[1]"
   ]
  },
  {
   "cell_type": "code",
   "execution_count": null,
   "id": "b80c3dca-9b21-4314-8b00-a1e2a20031b7",
   "metadata": {},
   "outputs": [],
   "source": [
    "new=np.array([[1,2,3,4],[6,7,8,9],[8,0,77,74]])\n",
    "new[2,1:3]"
   ]
  },
  {
   "cell_type": "code",
   "execution_count": null,
   "id": "c55c9e8e-f9e3-40bd-b658-71abc078b728",
   "metadata": {},
   "outputs": [],
   "source": [
    "l1=[1,2,4]\n",
    "l2=[2,3,4]\n"
   ]
  },
  {
   "cell_type": "code",
   "execution_count": null,
   "id": "9b59a18a-4aec-4e4b-a4bb-af1b9e4fb458",
   "metadata": {},
   "outputs": [],
   "source": []
  }
 ],
 "metadata": {
  "kernelspec": {
   "display_name": "Python 3 (ipykernel)",
   "language": "python",
   "name": "python3"
  },
  "language_info": {
   "codemirror_mode": {
    "name": "ipython",
    "version": 3
   },
   "file_extension": ".py",
   "mimetype": "text/x-python",
   "name": "python",
   "nbconvert_exporter": "python",
   "pygments_lexer": "ipython3",
   "version": "3.12.4"
  }
 },
 "nbformat": 4,
 "nbformat_minor": 5
}
