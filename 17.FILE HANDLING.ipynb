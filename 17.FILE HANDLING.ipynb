{
 "cells": [
  {
   "cell_type": "markdown",
   "id": "5008d55b-3d1e-4b2a-b59d-16a07fbda071",
   "metadata": {},
   "source": [
    "# file handling"
   ]
  },
  {
   "cell_type": "markdown",
   "id": "d0068831-1830-4ffc-ae08-10379a730a8f",
   "metadata": {},
   "source": [
    "<!-- \"r\" - Read - Default value. Opens a file for reading, error if the file does not exist\n",
    "\n",
    "\"a\" - Append - Opens a file for appending, creates the file if it does not exist\n",
    "\n",
    "\"w\" - Write - Opens a file for writing, creates the file if it does not exist\n",
    "\n",
    "\"x\" - Create - Creates the specified file, returns an error if the file exists -->"
   ]
  },
  {
   "cell_type": "markdown",
   "id": "3b0571a2-5e16-4c6e-b0d7-7f4a993ac580",
   "metadata": {},
   "source": [
    "### \"r\" - Read - Default value. Opens a file for reading, error if the file does not exist\n",
    "\n",
    "### \"a\" - Append - Opens a file for appending, creates the file if it does not exist\n",
    "\n",
    "### \"w\" - Write - Opens a file for writing, creates the file if it does not exist\n",
    "\n",
    "### \"x\" - Create - Creates the specified file, returns an error if the file exists"
   ]
  },
  {
   "cell_type": "code",
   "execution_count": 2,
   "id": "a01645fd-81fb-44bb-b6f7-2ff2636b21ff",
   "metadata": {},
   "outputs": [
    {
     "data": {
      "text/plain": [
       "'hello world'"
      ]
     },
     "execution_count": 2,
     "metadata": {},
     "output_type": "execute_result"
    }
   ],
   "source": [
    "f = open(\"testfile.txt\", \"r\")\n",
    "f.read()"
   ]
  },
  {
   "cell_type": "code",
   "execution_count": 4,
   "id": "d6450772-e203-4475-89e9-b29948861849",
   "metadata": {},
   "outputs": [
    {
     "data": {
      "text/plain": [
       "'welco'"
      ]
     },
     "execution_count": 4,
     "metadata": {},
     "output_type": "execute_result"
    }
   ],
   "source": [
    "f = open(\"testfile.txt\", \"r\")\n",
    "f.read(5)"
   ]
  },
  {
   "cell_type": "code",
   "execution_count": 5,
   "id": "7c2ace0d-3a0e-4ddf-9312-4e5044c57991",
   "metadata": {},
   "outputs": [
    {
     "name": "stdout",
     "output_type": "stream",
     "text": [
      "welcome to python Now the file has more content!Now the file has more content!Now the file has more content!Now the file has more content!Now the file has more content!Now the file has more content!\n"
     ]
    }
   ],
   "source": [
    "f = open(\"new.txt\", \"r\")\n",
    "print(f.readline())\n",
    "f.close()\n"
   ]
  },
  {
   "cell_type": "code",
   "execution_count": 22,
   "id": "bc2482c1-5504-4946-8d3d-a8f26424091c",
   "metadata": {},
   "outputs": [],
   "source": [
    "f = open(\"testfile.txt\", \"w\")\n",
    "f.write(\"Now the file has more content!\")\n",
    "f.close()"
   ]
  },
  {
   "cell_type": "code",
   "execution_count": 6,
   "id": "b860193d-ddc2-46e1-b4a9-6c394eaf6157",
   "metadata": {},
   "outputs": [
    {
     "data": {
      "text/plain": [
       "'Now the file has more content!'"
      ]
     },
     "execution_count": 6,
     "metadata": {},
     "output_type": "execute_result"
    }
   ],
   "source": [
    "f = open(\"testfile.txt\", \"r\")\n",
    "f.read()\n",
    "# f.close()"
   ]
  },
  {
   "cell_type": "code",
   "execution_count": 3,
   "id": "10feef8d-547b-4b78-a25f-d23b4043b845",
   "metadata": {},
   "outputs": [],
   "source": [
    "f = open(\"testfile.txt\", \"a\")\n",
    "f.write(\"  thats ok !\")\n",
    "f.close()"
   ]
  },
  {
   "cell_type": "code",
   "execution_count": 7,
   "id": "f407c0d1-9146-43da-932c-752fb6e288ca",
   "metadata": {},
   "outputs": [
    {
     "name": "stdout",
     "output_type": "stream",
     "text": [
      "Now the file has more content!thats ok !thats ok !thats ok !\n"
     ]
    }
   ],
   "source": [
    "f = open(\"new2.txt\", \"r\")\n",
    "print(f.readline())\n",
    "f.close()\n"
   ]
  },
  {
   "cell_type": "code",
   "execution_count": 4,
   "id": "25b69b5f-0179-485d-bba8-4376a35cf643",
   "metadata": {},
   "outputs": [],
   "source": [
    "f = open(\"testfile.txt\", \"w\")\n",
    "f.write(\"Now the file has more content!\")\n",
    "f.close()"
   ]
  },
  {
   "cell_type": "code",
   "execution_count": 9,
   "id": "07deed81-434e-48be-8558-425021885f20",
   "metadata": {},
   "outputs": [
    {
     "data": {
      "text/plain": [
       "'thats ok!'"
      ]
     },
     "execution_count": 9,
     "metadata": {},
     "output_type": "execute_result"
    }
   ],
   "source": [
    " f= open(\"new3.txt\", \"r\")\n",
    "f.read()"
   ]
  },
  {
   "cell_type": "code",
   "execution_count": 34,
   "id": "65498450-9d87-4658-bf90-d32df9f64320",
   "metadata": {},
   "outputs": [],
   "source": [
    "f = open(\"new5.txt\", \"w\")\n",
    "f.write(\"thats ok!\")\n",
    "f.close()"
   ]
  },
  {
   "cell_type": "code",
   "execution_count": 19,
   "id": "5c5fac0e-13ce-4bad-84e2-3b76a8a3153c",
   "metadata": {},
   "outputs": [
    {
     "name": "stdout",
     "output_type": "stream",
     "text": [
      "thats ok!\n"
     ]
    }
   ],
   "source": [
    "f = open(\"new3.txt\", \"r\")\n",
    "print(f.readline())\n",
    "f.close()"
   ]
  },
  {
   "cell_type": "code",
   "execution_count": 10,
   "id": "87fa73d1-e6c9-44a5-af14-c09eec84997a",
   "metadata": {},
   "outputs": [],
   "source": [
    "f = open(\"day30.txt\",\"w\")\n",
    "f.write(\"Now the file has more content!\")\n",
    "f.close()"
   ]
  },
  {
   "cell_type": "code",
   "execution_count": 6,
   "id": "2f7761ca-4f83-47ea-b6bb-72f82432c7b0",
   "metadata": {},
   "outputs": [
    {
     "data": {
      "text/plain": [
       "'hello world'"
      ]
     },
     "execution_count": 6,
     "metadata": {},
     "output_type": "execute_result"
    }
   ],
   "source": [
    "f = open(r\"C:/Users/Admin/Documents/python/example.txt\",\"r\")\n",
    "f.read()\n"
   ]
  },
  {
   "cell_type": "code",
   "execution_count": 46,
   "id": "032d6252-3aca-4a96-b649-47318b3f47d8",
   "metadata": {},
   "outputs": [],
   "source": [
    "f = open(r\"C:/Users/Admin/Documents/class/day30.txt\",\"a\")\n",
    "f.write(\"add some content\")\n",
    "f.close()\n",
    "\n",
    "\n",
    "\n",
    "\n",
    "\n",
    "\n"
   ]
  },
  {
   "cell_type": "code",
   "execution_count": 8,
   "id": "07aece4b-55a3-4373-b408-4b1f00320ca3",
   "metadata": {},
   "outputs": [
    {
     "data": {
      "text/plain": [
       "'hi heloooo'"
      ]
     },
     "execution_count": 8,
     "metadata": {},
     "output_type": "execute_result"
    }
   ],
   "source": [
    "f = open(r\"C:/Users/Admin/Documents/python/classwork/python.txt\",\"r\")\n",
    "f.read()"
   ]
  },
  {
   "cell_type": "code",
   "execution_count": 2,
   "id": "55e75019-115f-47f4-9833-97e4b8a77f61",
   "metadata": {},
   "outputs": [],
   "source": [
    "f = open(\"test1.txt\", \"w\")\n",
    "f.write(\"thats ok!\")\n",
    "f.close()"
   ]
  },
  {
   "cell_type": "code",
   "execution_count": 6,
   "id": "14fe8d24-c760-42e2-9f17-105e0156dcbf",
   "metadata": {},
   "outputs": [
    {
     "data": {
      "text/plain": [
       "'rw=khbszhvcbzjc izk vcbjl'"
      ]
     },
     "execution_count": 6,
     "metadata": {},
     "output_type": "execute_result"
    }
   ],
   "source": [
    "f = open(\"D:/new.txt\", \"r\")\n",
    "f.read()\n",
    "# f.close()"
   ]
  },
  {
   "cell_type": "code",
   "execution_count": 16,
   "id": "636ddbe6-6005-4d92-ad93-013a921dd6e2",
   "metadata": {},
   "outputs": [],
   "source": [
    "f = open(\"testfile.txt\", \"w\")\n",
    "f.write(\"thats ok !\")\n",
    "f.close()"
   ]
  },
  {
   "cell_type": "code",
   "execution_count": null,
   "id": "75cada92-1ec1-4e82-a299-2e68fe6f7cf3",
   "metadata": {},
   "outputs": [],
   "source": []
  }
 ],
 "metadata": {
  "kernelspec": {
   "display_name": "Python 3 (ipykernel)",
   "language": "python",
   "name": "python3"
  },
  "language_info": {
   "codemirror_mode": {
    "name": "ipython",
    "version": 3
   },
   "file_extension": ".py",
   "mimetype": "text/x-python",
   "name": "python",
   "nbconvert_exporter": "python",
   "pygments_lexer": "ipython3",
   "version": "3.12.4"
  }
 },
 "nbformat": 4,
 "nbformat_minor": 5
}
