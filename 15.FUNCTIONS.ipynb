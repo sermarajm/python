{
 "cells": [
  {
   "cell_type": "code",
   "execution_count": null,
   "id": "da3ce503-e25b-47a9-a2eb-48ff7fa197cb",
   "metadata": {},
   "outputs": [],
   "source": [
    "def fuction1():\n",
    "    print(\"hi,how are you\")\n",
    "    \n",
    "fuction1()"
   ]
  },
  {
   "cell_type": "code",
   "execution_count": null,
   "id": "b5507158-d9c1-4c0e-844b-7acbfa3aa6f5",
   "metadata": {},
   "outputs": [],
   "source": [
    "print(\"hi hello\")"
   ]
  },
  {
   "cell_type": "code",
   "execution_count": null,
   "id": "fa265c56-1643-441e-96a1-7827bb11f076",
   "metadata": {},
   "outputs": [],
   "source": [
    "print(\"hi,how are you\")"
   ]
  },
  {
   "cell_type": "code",
   "execution_count": 1,
   "id": "f6cf90b1-673b-4e76-8215-47051ef25a4e",
   "metadata": {},
   "outputs": [
    {
     "name": "stdout",
     "output_type": "stream",
     "text": [
      "7\n"
     ]
    },
    {
     "ename": "NameError",
     "evalue": "name 'a' is not defined",
     "output_type": "error",
     "traceback": [
      "\u001b[1;31m---------------------------------------------------------------------------\u001b[0m",
      "\u001b[1;31mNameError\u001b[0m                                 Traceback (most recent call last)",
      "Cell \u001b[1;32mIn[1], line 11\u001b[0m\n\u001b[0;32m      8\u001b[0m     \u001b[38;5;28mprint\u001b[39m(a\u001b[38;5;241m-\u001b[39mb)\n\u001b[0;32m     10\u001b[0m add()\n\u001b[1;32m---> 11\u001b[0m sub()\n",
      "Cell \u001b[1;32mIn[1], line 8\u001b[0m, in \u001b[0;36msub\u001b[1;34m()\u001b[0m\n\u001b[0;32m      7\u001b[0m \u001b[38;5;28;01mdef\u001b[39;00m \u001b[38;5;21msub\u001b[39m():\n\u001b[1;32m----> 8\u001b[0m     \u001b[38;5;28mprint\u001b[39m(a\u001b[38;5;241m-\u001b[39mb)\n",
      "\u001b[1;31mNameError\u001b[0m: name 'a' is not defined"
     ]
    }
   ],
   "source": [
    "a=5\n",
    "b=2\n",
    "\n",
    "\n",
    "def add():\n",
    "    c=a+b\n",
    "\n",
    "\n",
    "def sub():\n",
    "    print(a-b)\n",
    "\n",
    "add()\n",
    "sub()\n"
   ]
  },
  {
   "cell_type": "code",
   "execution_count": 2,
   "id": "53bedc2e-3e5b-481e-8e09-b4f96c059788",
   "metadata": {},
   "outputs": [
    {
     "name": "stdout",
     "output_type": "stream",
     "text": [
      "hi\n",
      "11 -1\n"
     ]
    }
   ],
   "source": [
    "a=5\n",
    "b=6\n",
    "\n",
    "def add():\n",
    "    global c,d\n",
    "    c=a+b\n",
    "    d=a-b\n",
    "    print(\"hi\")\n",
    "\n",
    "def sub():\n",
    "    print(c,d)\n",
    "add()\n",
    "sub()\n",
    "    "
   ]
  },
  {
   "cell_type": "code",
   "execution_count": null,
   "id": "0c0e4979-253b-4919-9249-56497c62f0dc",
   "metadata": {},
   "outputs": [],
   "source": [
    "print(\"hi,how are you\")\n"
   ]
  },
  {
   "cell_type": "markdown",
   "id": "95ff4a18-d436-45ba-bd6b-7bf0f4a792b2",
   "metadata": {},
   "source": [
    "# Arguments"
   ]
  },
  {
   "cell_type": "code",
   "execution_count": null,
   "id": "2612dd81-1c84-413d-969b-8dc0712d2abc",
   "metadata": {},
   "outputs": [],
   "source": [
    "def add(a,b):\n",
    "    c=a+b\n",
    "    return c\n",
    "k=add(b=5,a=6) \n",
    "print(k)"
   ]
  },
  {
   "cell_type": "code",
   "execution_count": null,
   "id": "501e6037-8d78-4a93-a568-933dae78e5f5",
   "metadata": {},
   "outputs": [],
   "source": [
    "\n",
    "def add(a,b):\n",
    "    c=a+b\n",
    "    return a\n",
    "\n",
    "def sub(a,b):\n",
    "    c=a-b\n",
    "    return c\n",
    "\n",
    "k=add(6,7)\n",
    "print(k)\n",
    "k1=sub(8,6)\n",
    "print(k1)\n",
    "# print(k*k1)"
   ]
  },
  {
   "cell_type": "code",
   "execution_count": null,
   "id": "e901f93f-6728-43a8-ae74-172b3dbfdc93",
   "metadata": {},
   "outputs": [],
   "source": [
    "def fuction1(A,B):\n",
    "    print(A,B)\n",
    "  \n",
    "\n",
    "\n",
    "fuction1(B=10,A=78)"
   ]
  },
  {
   "cell_type": "code",
   "execution_count": null,
   "id": "d4b83c97-4cef-4fd1-87e7-62ef0b6615e6",
   "metadata": {},
   "outputs": [],
   "source": [
    "def add(num1,num2):\n",
    "    print(num1+num2)\n",
    "\n",
    "\n",
    "\n",
    "add(num2=90,num1=100)"
   ]
  },
  {
   "cell_type": "code",
   "execution_count": null,
   "id": "10396158-619f-4d60-9ffe-120b023dfa24",
   "metadata": {},
   "outputs": [],
   "source": [
    "def add(num1,num2):\n",
    "  k=num2+num1\n",
    "  return k\n",
    "\n",
    "l=add(num2=10,num1=5)\n",
    "print(l)\n",
    "\n",
    "\n",
    "b=89\n",
    "ans=b*l\n",
    "#print(ans)"
   ]
  },
  {
   "cell_type": "code",
   "execution_count": null,
   "id": "eb662216-5dbb-45cd-b76e-c2886f4985f0",
   "metadata": {},
   "outputs": [],
   "source": [
    "def add(**num):\n",
    "  print(num[\"num2\"])\n",
    "\n",
    "\n",
    "add(num2=10,num1=5,num3=56)"
   ]
  },
  {
   "cell_type": "code",
   "execution_count": null,
   "id": "30704dcb-0d98-49e0-8b2d-91129de9fe17",
   "metadata": {},
   "outputs": [],
   "source": [
    "def myfunction():\n",
    "  pass\n",
    "\n",
    "\n",
    "myfunction()"
   ]
  },
  {
   "cell_type": "code",
   "execution_count": null,
   "id": "0ea12961-545a-44fb-a5c3-eb4794fb9ded",
   "metadata": {},
   "outputs": [],
   "source": [
    "for i in range(10):\n",
    "    pass"
   ]
  },
  {
   "cell_type": "code",
   "execution_count": null,
   "id": "baea0b58-7ae5-443d-8e59-412b3cd27757",
   "metadata": {},
   "outputs": [],
   "source": [
    "def add(num1,num2):\n",
    "  k=(num1+num2)\n",
    "  return k\n",
    "\n",
    "k=add(10,20)\n",
    "print(k)\n",
    "#outpu1=k+20\n",
    "#print(outpu1)"
   ]
  },
  {
   "cell_type": "code",
   "execution_count": null,
   "id": "ff4696a3-4507-412f-9daa-039747b00962",
   "metadata": {},
   "outputs": [],
   "source": [
    "def add(num1,num2):\n",
    "  k=num1+num2\n",
    "  return k\n",
    "  \n",
    "\n",
    "\n",
    "\n",
    "new=add(90,45)\n",
    "print(new,\"new\")\n",
    "\n",
    "\n",
    "\n",
    "# add1=new+78\n",
    "# print(add1)"
   ]
  },
  {
   "cell_type": "code",
   "execution_count": null,
   "id": "df43ae19-73f1-496c-bcfa-c9d86ba2e5b6",
   "metadata": {},
   "outputs": [],
   "source": [
    "def add1(num1,num2):\n",
    "  k=(num1+num2)\n",
    "  return k\n",
    "\n",
    "\n",
    "def sub(num1,num2):\n",
    "  k=(num1-num2)\n",
    "  return k  "
   ]
  },
  {
   "cell_type": "code",
   "execution_count": null,
   "id": "13f96870-a97a-4516-a49a-6895d8bd6ae4",
   "metadata": {},
   "outputs": [],
   "source": [
    "ADD1=add1(10,20)\n",
    "SUB1=sub(60,12)\n",
    "\n",
    "\n",
    "\n",
    "output1=ADD1*SUB1\n",
    "print(output1)"
   ]
  },
  {
   "cell_type": "code",
   "execution_count": null,
   "id": "66b2550f-87c3-43be-a01b-daa972a453b9",
   "metadata": {},
   "outputs": [],
   "source": [
    "def age(a):\n",
    "    try:\n",
    "        if a<18:\n",
    "            print(\"child\")\n",
    "        elif a>=18 and a<50:\n",
    "            print(\"adult\")\n",
    "        else:\n",
    "            print(\"aged\")\n",
    "    except Exception as e:\n",
    "        print(e)\n",
    "\n",
    "a=\"hi\"\n",
    "age(a)\n",
    "    "
   ]
  },
  {
   "cell_type": "code",
   "execution_count": null,
   "id": "e9b2fd4a-c6cc-4561-b019-f0993776c78e",
   "metadata": {},
   "outputs": [],
   "source": []
  }
 ],
 "metadata": {
  "kernelspec": {
   "display_name": "Python 3 (ipykernel)",
   "language": "python",
   "name": "python3"
  },
  "language_info": {
   "codemirror_mode": {
    "name": "ipython",
    "version": 3
   },
   "file_extension": ".py",
   "mimetype": "text/x-python",
   "name": "python",
   "nbconvert_exporter": "python",
   "pygments_lexer": "ipython3",
   "version": "3.12.4"
  }
 },
 "nbformat": 4,
 "nbformat_minor": 5
}
