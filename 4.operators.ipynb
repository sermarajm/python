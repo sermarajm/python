{
 "cells": [
  {
   "cell_type": "markdown",
   "id": "71aa33d3",
   "metadata": {},
   "source": [
    " # Python Operators"
   ]
  },
  {
   "cell_type": "code",
   "execution_count": null,
   "id": "2f5e308c",
   "metadata": {},
   "outputs": [],
   "source": [
    "  \"Operators are used to perform operations on variables and values.\"\n",
    "\n"
   ]
  },
  {
   "cell_type": "markdown",
   "id": "f814eee4",
   "metadata": {},
   "source": [
    "### Arithmetic operators\n",
    "### Assignment operators\n",
    "### Comparison operators\n",
    "### Logical operators\n",
    "### Identity operators\n",
    "### Membership operators\n",
    "### Bitwise operators"
   ]
  },
  {
   "cell_type": "code",
   "execution_count": null,
   "id": "0262efaa",
   "metadata": {},
   "outputs": [],
   "source": []
  },
  {
   "cell_type": "markdown",
   "id": "ade2be57",
   "metadata": {},
   "source": [
    "## Arithmetic operators"
   ]
  },
  {
   "cell_type": "code",
   "execution_count": null,
   "id": "0d5c6067",
   "metadata": {},
   "outputs": [],
   "source": [
    "a=int(input(\" enter the number\"))\n",
    "b=int(input(\"enter the number\"))"
   ]
  },
  {
   "cell_type": "code",
   "execution_count": null,
   "id": "6111f21b",
   "metadata": {},
   "outputs": [],
   "source": [
    "print(a+b )"
   ]
  },
  {
   "cell_type": "code",
   "execution_count": null,
   "id": "5ef1cfc4",
   "metadata": {},
   "outputs": [],
   "source": [
    "print(a-b )"
   ]
  },
  {
   "cell_type": "code",
   "execution_count": null,
   "id": "2cf872b5",
   "metadata": {},
   "outputs": [],
   "source": [
    "print(a*b )"
   ]
  },
  {
   "cell_type": "code",
   "execution_count": null,
   "id": "f54fea02",
   "metadata": {},
   "outputs": [],
   "source": [
    "print(a/b )"
   ]
  },
  {
   "cell_type": "code",
   "execution_count": null,
   "id": "24f471cf-7c2b-43ee-9c34-b1748087b05a",
   "metadata": {},
   "outputs": [],
   "source": [
    "print(a%b )"
   ]
  },
  {
   "cell_type": "code",
   "execution_count": null,
   "id": "41b92ccf-aee1-43ff-a1a3-9c50ddc60e92",
   "metadata": {},
   "outputs": [],
   "source": [
    "print(a//b )"
   ]
  },
  {
   "cell_type": "code",
   "execution_count": null,
   "id": "9122c7eb",
   "metadata": {},
   "outputs": [],
   "source": [
    "print(a**2)"
   ]
  },
  {
   "cell_type": "code",
   "execution_count": null,
   "id": "226d03f2",
   "metadata": {},
   "outputs": [],
   "source": [
    "print(a//b)"
   ]
  },
  {
   "cell_type": "code",
   "execution_count": null,
   "id": "7d194eea-8983-4c85-a79e-098cb2814032",
   "metadata": {},
   "outputs": [],
   "source": [
    "print(5/2)"
   ]
  },
  {
   "cell_type": "code",
   "execution_count": null,
   "id": "ee77d468-be3d-41db-b122-91b8fd31a6c0",
   "metadata": {},
   "outputs": [],
   "source": [
    "print(5//2)"
   ]
  },
  {
   "cell_type": "code",
   "execution_count": null,
   "id": "7947c6be-71c0-4b07-824a-cdfb2ba33e30",
   "metadata": {},
   "outputs": [],
   "source": [
    "print(5%2)"
   ]
  },
  {
   "cell_type": "markdown",
   "id": "9932b103",
   "metadata": {},
   "source": [
    "# Python Assignment Operators"
   ]
  },
  {
   "cell_type": "code",
   "execution_count": 1,
   "id": "050ff4e7",
   "metadata": {},
   "outputs": [
    {
     "name": "stdout",
     "output_type": "stream",
     "text": [
      "8\n"
     ]
    }
   ],
   "source": [
    "a=5\n",
    "a=a+3\n",
    "print(a)"
   ]
  },
  {
   "cell_type": "code",
   "execution_count": 2,
   "id": "0ada9ff4",
   "metadata": {},
   "outputs": [
    {
     "name": "stdout",
     "output_type": "stream",
     "text": [
      "11\n"
     ]
    }
   ],
   "source": [
    "a+=3\n",
    "print(a)"
   ]
  },
  {
   "cell_type": "code",
   "execution_count": 3,
   "id": "b24eae88",
   "metadata": {},
   "outputs": [
    {
     "name": "stdout",
     "output_type": "stream",
     "text": [
      "8\n"
     ]
    }
   ],
   "source": [
    "a-=3\n",
    "print(a)"
   ]
  },
  {
   "cell_type": "code",
   "execution_count": null,
   "id": "8357f3b7",
   "metadata": {},
   "outputs": [],
   "source": [
    "a*=3\n",
    "print(a)"
   ]
  },
  {
   "cell_type": "code",
   "execution_count": null,
   "id": "029107e9",
   "metadata": {},
   "outputs": [],
   "source": [
    "a/=3\n",
    "print(a)"
   ]
  },
  {
   "cell_type": "code",
   "execution_count": null,
   "id": "ee45486c",
   "metadata": {},
   "outputs": [],
   "source": [
    "a%=3\n",
    "print(a)"
   ]
  },
  {
   "cell_type": "markdown",
   "id": "89a0bd15",
   "metadata": {},
   "source": [
    "## Python Comparison Operators"
   ]
  },
  {
   "cell_type": "code",
   "execution_count": null,
   "id": "bcd7b8ad",
   "metadata": {},
   "outputs": [],
   "source": [
    "a=15\n",
    "b=15\n",
    "print(a>b)\n",
    "\n"
   ]
  },
  {
   "cell_type": "code",
   "execution_count": null,
   "id": "4fea3fcc",
   "metadata": {},
   "outputs": [],
   "source": [
    "print(a==b)"
   ]
  },
  {
   "cell_type": "code",
   "execution_count": null,
   "id": "ac5a4c7c",
   "metadata": {},
   "outputs": [],
   "source": [
    "print(a!=b)"
   ]
  },
  {
   "cell_type": "code",
   "execution_count": null,
   "id": "7597d7e5",
   "metadata": {},
   "outputs": [],
   "source": [
    "print(a>b)"
   ]
  },
  {
   "cell_type": "code",
   "execution_count": null,
   "id": "79ecd5c4-2092-4740-835f-0224343644b2",
   "metadata": {},
   "outputs": [],
   "source": [
    "print(a>=b)"
   ]
  },
  {
   "cell_type": "code",
   "execution_count": null,
   "id": "a74f853f",
   "metadata": {},
   "outputs": [],
   "source": [
    "print(a<=b)"
   ]
  },
  {
   "cell_type": "code",
   "execution_count": null,
   "id": "bf397a94-6fec-44e1-bf01-d4899fd968e3",
   "metadata": {},
   "outputs": [],
   "source": [
    "a=67\n",
    "b=67\n",
    "print(a>=b)"
   ]
  },
  {
   "cell_type": "code",
   "execution_count": null,
   "id": "960283b2-af84-435d-ad91-ab8e731591b4",
   "metadata": {},
   "outputs": [],
   "source": []
  }
 ],
 "metadata": {
  "kernelspec": {
   "display_name": "Python 3 (ipykernel)",
   "language": "python",
   "name": "python3"
  },
  "language_info": {
   "codemirror_mode": {
    "name": "ipython",
    "version": 3
   },
   "file_extension": ".py",
   "mimetype": "text/x-python",
   "name": "python",
   "nbconvert_exporter": "python",
   "pygments_lexer": "ipython3",
   "version": "3.12.4"
  }
 },
 "nbformat": 4,
 "nbformat_minor": 5
}
