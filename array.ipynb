{
 "cells": [
  {
   "cell_type": "code",
   "execution_count": null,
   "id": "6ad74368-13c8-4eaa-988d-37c96a07a4a6",
   "metadata": {},
   "outputs": [],
   "source": [
    "list1 = [1, 2, 3]\n",
    "list2 = [4, 5, 6]\n",
    "list3 = list1 + list2\n",
    "print(list3)"
   ]
  },
  {
   "cell_type": "code",
   "execution_count": null,
   "id": "9f0d11bd-cc57-45ce-a518-1c1f3df01ec1",
   "metadata": {},
   "outputs": [],
   "source": [
    "import numpy as np\n",
    "a=np.array([[2,3,4,5],[4,5,7,8]])\n",
    "b=np.array([[9,9,6,5],[3,5,1,8]])\n",
    "addition=a+b\n",
    "sub=a-b\n",
    "multi=a*b\n",
    "div=a/b\n",
    "\n",
    "print(\"addition\",addition)\n",
    "print(\"sub\",sub)\n",
    "print(\"multi\",multi)\n",
    "print(\"div\",div)"
   ]
  },
  {
   "cell_type": "code",
   "execution_count": null,
   "id": "335398fa-7918-4379-8f48-44f1ae59b9b0",
   "metadata": {},
   "outputs": [],
   "source": [
    "import numpy as arr\n",
    "a=arr.array([1,2,3,4,5,6,7,8,9,0])\n",
    "serma=a.reshape(5,2)\n",
    "print(serma)"
   ]
  },
  {
   "cell_type": "code",
   "execution_count": 13,
   "id": "3bdbbc75-6963-4956-aa92-27bc99654f7f",
   "metadata": {},
   "outputs": [
    {
     "name": "stdout",
     "output_type": "stream",
     "text": [
      "[[[ 1  2]\n",
      "  [ 3  4]]\n",
      "\n",
      " [[ 5  6]\n",
      "  [ 7  8]]\n",
      "\n",
      " [[ 9  0]\n",
      "  [11 12]]]\n"
     ]
    }
   ],
   "source": [
    "import numpy as arr\n",
    "a=arr.array([1,2,3,4,5,6,7,8,9,0,11,12])\n",
    "serma=a.reshape(3,2,2)\n",
    "print(serma)"
   ]
  },
  {
   "cell_type": "code",
   "execution_count": null,
   "id": "ab2ffbe0-d48f-4004-b10d-c42f2ca90a61",
   "metadata": {},
   "outputs": [],
   "source": []
  }
 ],
 "metadata": {
  "kernelspec": {
   "display_name": "Python [conda env:base] *",
   "language": "python",
   "name": "conda-base-py"
  },
  "language_info": {
   "codemirror_mode": {
    "name": "ipython",
    "version": 3
   },
   "file_extension": ".py",
   "mimetype": "text/x-python",
   "name": "python",
   "nbconvert_exporter": "python",
   "pygments_lexer": "ipython3",
   "version": "3.12.7"
  }
 },
 "nbformat": 4,
 "nbformat_minor": 5
}
