{
 "cells": [
  {
   "cell_type": "markdown",
   "id": "87db8c0b-586d-451b-9b08-d13434b9d339",
   "metadata": {},
   "source": [
    "# Inheritanace "
   ]
  },
  {
   "cell_type": "markdown",
   "id": "6ba68d06-70d2-4840-b520-8d14b1880075",
   "metadata": {},
   "source": [
    "## Parent class is the class being inherited from, also called base class.\n",
    "\n",
    "## Child class is the class that inherits from another class, also called derived class."
   ]
  },
  {
   "cell_type": "markdown",
   "id": "aee53c94-a6e8-46fc-81c9-2a736525fa8b",
   "metadata": {},
   "source": [
    "### Types of Inheritance:\n"
   ]
  },
  {
   "cell_type": "markdown",
   "id": "1e746f2e-1157-4f1c-87d4-c114a179d653",
   "metadata": {},
   "source": [
    "#### Single Inheritance:\n",
    "#### Multiple Inheritance:\n",
    "#### Multilevel Inheritance:\n",
    "#### Hierarchical Inheritance:\n",
    "#### Hybrid Inheritance:\n",
    "\n"
   ]
  },
  {
   "cell_type": "markdown",
   "id": "d0b70937-a25f-4198-8067-0848c19b9f25",
   "metadata": {},
   "source": [
    "# Single Inheritance:"
   ]
  },
  {
   "cell_type": "code",
   "execution_count": 4,
   "id": "90d258df-3dd1-4715-aaa9-60cf109cedb5",
   "metadata": {},
   "outputs": [
    {
     "name": "stdout",
     "output_type": "stream",
     "text": [
      "hi hello\n",
      "hello everyone\n"
     ]
    }
   ],
   "source": [
    "class parent:\n",
    "    print(\"hi hello\")\n",
    "\n",
    "class child:\n",
    "    print(\"hello everyone\")\n",
    "p1=parent()\n",
    "p2=child()"
   ]
  },
  {
   "cell_type": "code",
   "execution_count": 5,
   "id": "1057c8ff-f905-45f2-829f-386e03a66482",
   "metadata": {},
   "outputs": [
    {
     "name": "stdout",
     "output_type": "stream",
     "text": [
      "hi hello\n"
     ]
    }
   ],
   "source": [
    "class parent:\n",
    "    def hlo(self):\n",
    "        print(\"hi hello\")\n",
    "\n",
    "class child(parent):\n",
    "    def hi(self):\n",
    "        print(\"how are u\")\n",
    "\n",
    "\n",
    "\n",
    "p1=child()\n",
    "p1.hlo()\n",
    "# p1.hi()"
   ]
  },
  {
   "cell_type": "code",
   "execution_count": 3,
   "id": "39b04658-0e28-44c7-9c27-0e833bb439ef",
   "metadata": {},
   "outputs": [
    {
     "name": "stdout",
     "output_type": "stream",
     "text": [
      "25\n"
     ]
    }
   ],
   "source": [
    "\n",
    "\n",
    "class parent1:\n",
    "    def __init__(self,name,age,dept):\n",
    "        self.name=name\n",
    "        self.age=age\n",
    "        self.dept=dept\n",
    "    def details(self):\n",
    "        print(self.name)\n",
    "\n",
    "\n",
    "\n",
    "class child(parent1):\n",
    "    def hlo(self):\n",
    "        print(self.age)\n",
    "\n",
    "\n",
    "p1=child(\"abc\",25,\"EEE\")\n",
    "p1.hlo()\n"
   ]
  },
  {
   "cell_type": "code",
   "execution_count": 10,
   "id": "97becb6a-f8b0-4318-ac66-fcd05a830a10",
   "metadata": {},
   "outputs": [
    {
     "name": "stdout",
     "output_type": "stream",
     "text": [
      "eee\n"
     ]
    }
   ],
   "source": [
    "\n",
    "class parent1:\n",
    "    def __init__(self,name,age,dept):\n",
    "        self.name=name\n",
    "        self.age=age\n",
    "        self.dept=dept\n",
    "    def details(self):\n",
    "        print(self.name)\n",
    "    def dep1(self):\n",
    "        print(self.dept)\n",
    "    \n",
    "\n",
    "\n",
    "class child(parent1):\n",
    "    def show(self):\n",
    "        print(self.age)\n",
    "\n",
    "p1=child(\"raja\",23,\"eee\")\n",
    "p1.dep1()"
   ]
  },
  {
   "cell_type": "markdown",
   "id": "cc15ed22-caad-48e7-a0c0-ffd8b489decb",
   "metadata": {},
   "source": [
    "## Multiple Inheritance:\n",
    "\n"
   ]
  },
  {
   "cell_type": "code",
   "execution_count": 14,
   "id": "db996a4c-8270-4786-a674-8ebe6d7203b5",
   "metadata": {},
   "outputs": [
    {
     "name": "stdout",
     "output_type": "stream",
     "text": [
      "EEE\n"
     ]
    }
   ],
   "source": [
    "\n",
    "class parent1:\n",
    "    def __init__(self,name,age,dept):\n",
    "        self.name=name\n",
    "        self.age=age\n",
    "        self.dept=dept\n",
    "    def details(self):\n",
    "        print(self.name)\n",
    "\n",
    "\n",
    "class child1:\n",
    "    def show(self):\n",
    "        print(self.age)\n",
    "\n",
    "\n",
    "\n",
    "class child2:\n",
    "    def show2(self):\n",
    "        print(self.dept)\n",
    "\n",
    "\n",
    "\n",
    "class child3(parent1,child1,child2):\n",
    "    def show3(self):\n",
    "        print(self.dept)\n",
    "\n",
    "\n",
    "p1=child3(\"abc\",45,\"EEE\")\n",
    "\n",
    "p1.show2()\n",
    "\n",
    "        \n",
    "# name=input(\"enter your name\")\n",
    "# password=input(\"enter your password\")\n",
    "# if name==\"raja\" and password==\"hello\":\n",
    "#     p1=child3(\"raja\",23,\"eee\")\n",
    "#     p1.show()\n",
    "#     p1.show3()\n",
    "#     p1.details()\n",
    "# else:\n",
    "#     print(\"wrong password\")"
   ]
  },
  {
   "cell_type": "markdown",
   "id": "b7e943a5-5dd0-4fb7-92f3-bd93a0e5d024",
   "metadata": {},
   "source": [
    "## Multilevel Inheritance:\n",
    "\n"
   ]
  },
  {
   "cell_type": "code",
   "execution_count": null,
   "id": "564a0a9a-1fe6-4dc8-87e5-bec09f76dd13",
   "metadata": {},
   "outputs": [],
   "source": [
    "class GrandParent:\n",
    "    def show(self):\n",
    "        print(\"This is GrandParent\")\n",
    "\n",
    "class Parent(GrandParent):\n",
    "    pass\n",
    "\n",
    "\n",
    "class child1(parent):\n",
    "    pass\n",
    "\n",
    "\n",
    "class Child(child1):\n",
    "    pass\n",
    "\n",
    "obj = Child()\n",
    "obj.show() \n"
   ]
  },
  {
   "cell_type": "markdown",
   "id": "a7ea7935-bfd7-4107-9af6-b6a84e91bda6",
   "metadata": {},
   "source": [
    "## Hierarchical Inheritance:\n",
    "\n"
   ]
  },
  {
   "cell_type": "code",
   "execution_count": null,
   "id": "eca2fc18-7424-4191-a7d7-da1690b3c4f8",
   "metadata": {},
   "outputs": [],
   "source": [
    "class Parent:\n",
    "    def show(self):\n",
    "        print(\"This is Parent\")\n",
    "\n",
    "class Child1(Parent):\n",
    "    pass\n",
    "\n",
    "class Child2(Parent):\n",
    "    pass\n",
    "\n",
    "obj1 = Child1()\n",
    "obj2 = Child2()\n",
    "obj1.show()  \n",
    "obj2.show()  "
   ]
  },
  {
   "cell_type": "markdown",
   "id": "f94dfa0e-39d6-4243-bc9e-05602f4b581f",
   "metadata": {},
   "source": [
    "## Hybrid Inheritance:\n",
    "\n"
   ]
  },
  {
   "cell_type": "code",
   "execution_count": null,
   "id": "1222d88c-0c04-4f34-814f-c89bb26ed468",
   "metadata": {},
   "outputs": [],
   "source": [
    "class Parent1:\n",
    "    pass\n",
    "\n",
    "class Parent2:\n",
    "    pass\n",
    "\n",
    "class Child1(Parent1, Parent2):\n",
    "    pass\n",
    "\n",
    "class Child2(Child1):\n",
    "    pass\n"
   ]
  },
  {
   "cell_type": "code",
   "execution_count": 14,
   "id": "f96c2629-e6b0-4c84-99b2-758c7995cc9b",
   "metadata": {},
   "outputs": [
    {
     "name": "stdout",
     "output_type": "stream",
     "text": [
      "3 1\n"
     ]
    }
   ],
   "source": [
    "def add(a,b):\n",
    "    print(a,b)\n",
    "add(b=1,a=3)"
   ]
  },
  {
   "cell_type": "code",
   "execution_count": null,
   "id": "9493d409-cca6-4f45-8df9-9e4487f4d5b2",
   "metadata": {},
   "outputs": [],
   "source": []
  }
 ],
 "metadata": {
  "kernelspec": {
   "display_name": "Python 3 (ipykernel)",
   "language": "python",
   "name": "python3"
  },
  "language_info": {
   "codemirror_mode": {
    "name": "ipython",
    "version": 3
   },
   "file_extension": ".py",
   "mimetype": "text/x-python",
   "name": "python",
   "nbconvert_exporter": "python",
   "pygments_lexer": "ipython3",
   "version": "3.12.4"
  }
 },
 "nbformat": 4,
 "nbformat_minor": 5
}
