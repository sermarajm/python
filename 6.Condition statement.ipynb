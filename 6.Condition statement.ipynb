{
 "cells": [
  {
   "cell_type": "markdown",
   "id": "4285f50e",
   "metadata": {},
   "source": [
    "# Python Conditions and If statements"
   ]
  },
  {
   "cell_type": "code",
   "execution_count": 1,
   "id": "9a6c6f38",
   "metadata": {},
   "outputs": [
    {
     "name": "stdout",
     "output_type": "stream",
     "text": [
      "True\n"
     ]
    }
   ],
   "source": [
    "a = 50\n",
    "b = 56\n",
    "# print(b>a)\n",
    "if b > a:\n",
    "    print(\"b is greater than a\")\n"
   ]
  },
  {
   "cell_type": "code",
   "execution_count": null,
   "id": "33220b9e-f0b7-41d5-823e-04f954cafe64",
   "metadata": {},
   "outputs": [],
   "source": [
    "b=input()"
   ]
  },
  {
   "cell_type": "markdown",
   "id": "c35883d7",
   "metadata": {},
   "source": [
    "## IndentationError"
   ]
  },
  {
   "cell_type": "code",
   "execution_count": 3,
   "id": "5d6175d3",
   "metadata": {},
   "outputs": [
    {
     "name": "stdout",
     "output_type": "stream",
     "text": [
      "b is greater than a\n"
     ]
    }
   ],
   "source": [
    "a = 50\n",
    "b = 56\n",
    "if b > a:\n",
    "print(\"b is greater than a\")"
   ]
  },
  {
   "cell_type": "markdown",
   "id": "8256909f",
   "metadata": {},
   "source": [
    "## SyntaxError"
   ]
  },
  {
   "cell_type": "code",
   "execution_count": 4,
   "id": "4003197a",
   "metadata": {},
   "outputs": [
    {
     "ename": "SyntaxError",
     "evalue": "expected ':' (1834454854.py, line 3)",
     "output_type": "error",
     "traceback": [
      "\u001b[1;36m  Cell \u001b[1;32mIn[4], line 3\u001b[1;36m\u001b[0m\n\u001b[1;33m    if b > a\u001b[0m\n\u001b[1;37m            ^\u001b[0m\n\u001b[1;31mSyntaxError\u001b[0m\u001b[1;31m:\u001b[0m expected ':'\n"
     ]
    }
   ],
   "source": [
    "a = 50\n",
    "b = 56\n",
    "if b > a\n",
    "    print(\"b is greater than a\")"
   ]
  },
  {
   "cell_type": "markdown",
   "id": "61329fb1",
   "metadata": {},
   "source": [
    "## if elif condition"
   ]
  },
  {
   "cell_type": "code",
   "execution_count": null,
   "id": "7bf59956",
   "metadata": {},
   "outputs": [],
   "source": [
    "a = 6\n",
    "b = 6\n",
    "if b > a:\n",
    "  print(\"b is greater than a\")\n",
    "elif a == b:\n",
    "  print(\"a and b are equal\")"
   ]
  },
  {
   "cell_type": "code",
   "execution_count": null,
   "id": "253d95db-5c3c-4a29-a85c-c98505284c52",
   "metadata": {},
   "outputs": [],
   "source": []
  },
  {
   "cell_type": "markdown",
   "id": "48450ad4",
   "metadata": {},
   "source": [
    "## if elif else"
   ]
  },
  {
   "cell_type": "code",
   "execution_count": null,
   "id": "7cef1e42",
   "metadata": {},
   "outputs": [],
   "source": [
    "a = 50\n",
    "b = 10\n",
    "if b > a:\n",
    "  print(\"b is greater than a\")\n",
    "elif a >b:\n",
    "  print(\"a is greater than b\")\n",
    "else:\n",
    "  print(\"a == b\")"
   ]
  },
  {
   "cell_type": "code",
   "execution_count": 7,
   "id": "a9e8fac0-69db-4e03-a76e-228cadf8fb61",
   "metadata": {},
   "outputs": [
    {
     "ename": "IndentationError",
     "evalue": "expected an indented block after 'if' statement on line 2 (1830208632.py, line 4)",
     "output_type": "error",
     "traceback": [
      "\u001b[1;36m  Cell \u001b[1;32mIn[7], line 4\u001b[1;36m\u001b[0m\n\u001b[1;33m    elif a<15:\u001b[0m\n\u001b[1;37m    ^\u001b[0m\n\u001b[1;31mIndentationError\u001b[0m\u001b[1;31m:\u001b[0m expected an indented block after 'if' statement on line 2\n"
     ]
    }
   ],
   "source": [
    "a=12\n",
    "if a>10:\n",
    "    print(\"a is greater\")\n",
    "elif a<15:\n",
    "    print(\"a is small\")\n",
    "    "
   ]
  },
  {
   "cell_type": "markdown",
   "id": "cc08ae33",
   "metadata": {},
   "source": [
    "## if else"
   ]
  },
  {
   "cell_type": "code",
   "execution_count": null,
   "id": "b123a951",
   "metadata": {},
   "outputs": [],
   "source": [
    "a = 50\n",
    "b = 10\n",
    "if b > a:\n",
    "  print(\"b is greater than a\")\n",
    "else:\n",
    "  print(\"b is not greater than a\")"
   ]
  },
  {
   "cell_type": "markdown",
   "id": "9dd45170",
   "metadata": {},
   "source": [
    "## if condition using and"
   ]
  },
  {
   "cell_type": "code",
   "execution_count": null,
   "id": "4179df01",
   "metadata": {},
   "outputs": [],
   "source": [
    "a = 25\n",
    "b = 20\n",
    "c = 500\n",
    "if a > b and c > a:\n",
    "  print(\"Both conditions are True\")"
   ]
  },
  {
   "cell_type": "code",
   "execution_count": null,
   "id": "16c3b343",
   "metadata": {},
   "outputs": [],
   "source": [
    "## if condition using or"
   ]
  },
  {
   "cell_type": "code",
   "execution_count": null,
   "id": "de329b55",
   "metadata": {},
   "outputs": [],
   "source": [
    "a = 25\n",
    "b = 20\n",
    "c = 500\n",
    "if a > b or a > c:\n",
    "  print(\"At least one of the conditions is True\")\n",
    "\n"
   ]
  },
  {
   "cell_type": "code",
   "execution_count": null,
   "id": "dde78513",
   "metadata": {},
   "outputs": [],
   "source": [
    "a = 11\n",
    "b = 30\n",
    "if not a > b:\n",
    "  print(\"a is NOT greater than b\")"
   ]
  },
  {
   "cell_type": "code",
   "execution_count": null,
   "id": "31ff44d7",
   "metadata": {},
   "outputs": [],
   "source": [
    "a = 11\n",
    "b = 30\n",
    "c=1\n",
    "\n",
    "if a>=b and a>=c:\n",
    "    print(\"a is greater\")\n",
    "elif b>=a and b>=c:  \n",
    "    print(\"b is greater\")\n",
    "else:\n",
    "    print(\"c is greater\")"
   ]
  },
  {
   "cell_type": "code",
   "execution_count": null,
   "id": "b8f69b98-7d56-4341-b366-44b5733a5040",
   "metadata": {},
   "outputs": [],
   "source": [
    "k=\"i am ABC\"\n",
    "if \"raja\"  in k:\n",
    "    deg=input(\"what is your quali\")\n",
    "    \n",
    "else:\n",
    "    print(\"your not raja\")"
   ]
  },
  {
   "cell_type": "code",
   "execution_count": 11,
   "id": "0754287d-e91d-4ba0-b266-4f9804a09e52",
   "metadata": {},
   "outputs": [
    {
     "ename": "SyntaxError",
     "evalue": "invalid syntax. Maybe you meant '==' or ':=' instead of '='? (3152429478.py, line 4)",
     "output_type": "error",
     "traceback": [
      "\u001b[1;36m  Cell \u001b[1;32mIn[11], line 4\u001b[1;36m\u001b[0m\n\u001b[1;33m    if b=\"male\":\u001b[0m\n\u001b[1;37m       ^\u001b[0m\n\u001b[1;31mSyntaxError\u001b[0m\u001b[1;31m:\u001b[0m invalid syntax. Maybe you meant '==' or ':=' instead of '='?\n"
     ]
    }
   ],
   "source": [
    "a=26\n",
    "b=\"jlhjn\"\n",
    "if a>25:\n",
    "    if b=\"male\":\n",
    "        print(\"tcs\")\n",
    "    else:\n",
    "        print(\"invalid\")\n",
    "else:\n",
    "    print(\"enter correct age\")"
   ]
  },
  {
   "cell_type": "code",
   "execution_count": null,
   "id": "3f192018-69d2-437b-8991-3f1ec5bbb43f",
   "metadata": {},
   "outputs": [],
   "source": []
  }
 ],
 "metadata": {
  "kernelspec": {
   "display_name": "Python 3 (ipykernel)",
   "language": "python",
   "name": "python3"
  },
  "language_info": {
   "codemirror_mode": {
    "name": "ipython",
    "version": 3
   },
   "file_extension": ".py",
   "mimetype": "text/x-python",
   "name": "python",
   "nbconvert_exporter": "python",
   "pygments_lexer": "ipython3",
   "version": "3.12.4"
  }
 },
 "nbformat": 4,
 "nbformat_minor": 5
}
