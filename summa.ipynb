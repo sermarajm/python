{
 "cells": [
  {
   "cell_type": "code",
   "execution_count": 34,
   "id": "1c80d4c0-bb31-49c5-9bf0-e0879355c24d",
   "metadata": {},
   "outputs": [
    {
     "name": "stdout",
     "output_type": "stream",
     "text": [
      "4\n",
      "45\n",
      "5\n",
      "4\n"
     ]
    }
   ],
   "source": [
    "l=[4,45,5,4,3,3,2]\n",
    "for i in l:\n",
    "    if i==3:\n",
    "        break \n",
    "    print(i)"
   ]
  },
  {
   "cell_type": "code",
   "execution_count": 24,
   "id": "a7bc4b1b-e048-49ff-a59f-03a4b8c0d191",
   "metadata": {},
   "outputs": [
    {
     "name": "stdout",
     "output_type": "stream",
     "text": [
      "6\n",
      "6\n"
     ]
    }
   ],
   "source": [
    "num=6\n",
    "for i in range(2):\n",
    " print(num)"
   ]
  },
  {
   "cell_type": "code",
   "execution_count": 26,
   "id": "f39e470f-6cbf-465f-86af-896c4d10413e",
   "metadata": {},
   "outputs": [
    {
     "name": "stdout",
     "output_type": "stream",
     "text": [
      "* = 3\n",
      "* = 6\n",
      "* = 9\n",
      "* = 12\n",
      "* = 15\n",
      "* = 18\n",
      "* = 21\n",
      "* = 24\n",
      "* = 27\n",
      "* = 30\n",
      "* = 33\n",
      "* = 36\n",
      "* = 39\n",
      "* = 42\n",
      "* = 45\n",
      "* = 48\n",
      "* = 51\n",
      "* = 54\n",
      "* = 57\n"
     ]
    }
   ],
   "source": [
    "for i in range(3,60,3):\n",
    "    print(\"*\",\"=\",i)"
   ]
  },
  {
   "cell_type": "code",
   "execution_count": 35,
   "id": "96ff9964-921b-4465-bb9f-1a88a4124732",
   "metadata": {},
   "outputs": [
    {
     "name": "stdout",
     "output_type": "stream",
     "text": [
      "========MENU========\n",
      "carrot..............   $\n",
      "banana==============   $\n",
      "green apple^^^^^^^^^   $\n"
     ]
    }
   ],
   "source": [
    "title=\"menu\".upper()\n",
    "print(title.center(20,\"=\"))\n",
    "print(\"carrot\".ljust(20, \".\")+  \"$\".rjust(4))\n",
    "print(\"banana\".ljust(20,\"=\") + \"$\".rjust(4))\n",
    "print(\"green apple\".ljust(20,\"^\") + \"$\".rjust(4))"
   ]
  },
  {
   "cell_type": "code",
   "execution_count": 36,
   "id": "dc1bfec0-ca81-408e-8176-b4fa855c844d",
   "metadata": {},
   "outputs": [
    {
     "name": "stdout",
     "output_type": "stream",
     "text": [
      "3.0\n",
      "5.0\n"
     ]
    }
   ],
   "source": [
    "com_value = 5+3j\n",
    "print(com_value.imag)\n",
    "print(com_value.real)"
   ]
  },
  {
   "cell_type": "code",
   "execution_count": null,
   "id": "11f7a9ce-eac7-4ab0-9839-562d008d0f9b",
   "metadata": {},
   "outputs": [],
   "source": []
  }
 ],
 "metadata": {
  "kernelspec": {
   "display_name": "Python 3 (ipykernel)",
   "language": "python",
   "name": "python3"
  },
  "language_info": {
   "codemirror_mode": {
    "name": "ipython",
    "version": 3
   },
   "file_extension": ".py",
   "mimetype": "text/x-python",
   "name": "python",
   "nbconvert_exporter": "python",
   "pygments_lexer": "ipython3",
   "version": "3.12.7"
  }
 },
 "nbformat": 4,
 "nbformat_minor": 5
}
