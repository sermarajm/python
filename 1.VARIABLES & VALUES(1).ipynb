{
 "cells": [
  {
   "cell_type": "code",
   "execution_count": 1,
   "id": "56ff8bd7",
   "metadata": {},
   "outputs": [
    {
     "name": "stdout",
     "output_type": "stream",
     "text": [
      "gfdtghd\n"
     ]
    }
   ],
   "source": [
    "print(\"gfdtghd\")"
   ]
  },
  {
   "cell_type": "code",
   "execution_count": 1,
   "id": "a6ca02a8",
   "metadata": {},
   "outputs": [
    {
     "data": {
      "text/plain": [
       "'3.12.4 | packaged by Anaconda, Inc. | (main, Jun 18 2024, 15:03:56) [MSC v.1929 64 bit (AMD64)]'"
      ]
     },
     "execution_count": 1,
     "metadata": {},
     "output_type": "execute_result"
    }
   ],
   "source": [
    "import sys\n",
    "sys.version"
   ]
  },
  {
   "cell_type": "code",
   "execution_count": 7,
   "id": "02dc1809-6bb7-4d6c-a56d-8c4c3798a0a0",
   "metadata": {},
   "outputs": [
    {
     "name": "stdout",
     "output_type": "stream",
     "text": [
      "['False', 'None', 'True', 'and', 'as', 'assert', 'async', 'await', 'break', 'class', 'continue', 'def', 'del', 'elif', 'else', 'except', 'finally', 'for', 'from', 'global', 'if', 'import', 'in', 'is', 'lambda', 'nonlocal', 'not', 'or', 'pass', 'raise', 'return', 'try', 'while', 'with', 'yield']\n"
     ]
    }
   ],
   "source": [
    "import keyword\n",
    "print(keyword.kwlist)"
   ]
  },
  {
   "cell_type": "markdown",
   "id": "ed3c0fef",
   "metadata": {},
   "source": [
    "## single line comment"
   ]
  },
  {
   "cell_type": "code",
   "execution_count": 6,
   "id": "867a261b",
   "metadata": {},
   "outputs": [
    {
     "data": {
      "text/plain": [
       "6"
      ]
     },
     "execution_count": 6,
     "metadata": {},
     "output_type": "execute_result"
    }
   ],
   "source": [
    "#using  we can comment single line ex:\n",
    "\n",
    "a=5 #(this is first value)\n",
    "b=10\n",
    "\n",
    "\n",
    "\n",
    "c=6\n",
    "c"
   ]
  },
  {
   "cell_type": "markdown",
   "id": "c5259525",
   "metadata": {},
   "source": [
    "## multiline comment"
   ]
  },
  {
   "cell_type": "code",
   "execution_count": 7,
   "id": "24d53291",
   "metadata": {},
   "outputs": [
    {
     "data": {
      "text/plain": [
       "'a=5\\nb=10\\nprint(a+b)'"
      ]
     },
     "execution_count": 7,
     "metadata": {},
     "output_type": "execute_result"
    }
   ],
   "source": [
    "# using ''' we can comment multiline ex:\n",
    "\n",
    "'''a=5\n",
    "b=10\n",
    "print(a+b)'''"
   ]
  },
  {
   "cell_type": "markdown",
   "id": "129c6595",
   "metadata": {},
   "source": [
    "##  legal variables"
   ]
  },
  {
   "cell_type": "code",
   "execution_count": 8,
   "id": "095421c3",
   "metadata": {},
   "outputs": [],
   "source": [
    "number = 1\n",
    "num_ber = 1\n",
    "_num_ber =1\n",
    "nuMbEr =1\n",
    "NUMBER =1\n",
    "NUMBER1 =1"
   ]
  },
  {
   "cell_type": "markdown",
   "id": "b2c23a0c",
   "metadata": {},
   "source": [
    "## Illegal variable names"
   ]
  },
  {
   "cell_type": "code",
   "execution_count": 1,
   "id": "9953a837",
   "metadata": {},
   "outputs": [
    {
     "ename": "SyntaxError",
     "evalue": "invalid decimal literal (2236074312.py, line 1)",
     "output_type": "error",
     "traceback": [
      "\u001b[1;36m  Cell \u001b[1;32mIn[1], line 1\u001b[1;36m\u001b[0m\n\u001b[1;33m    1number =1\u001b[0m\n\u001b[1;37m    ^\u001b[0m\n\u001b[1;31mSyntaxError\u001b[0m\u001b[1;31m:\u001b[0m invalid decimal literal\n"
     ]
    }
   ],
   "source": [
    "1number =1\n",
    "num-ber =1\n",
    "my var =1\n",
    "@my var=1"
   ]
  },
  {
   "cell_type": "markdown",
   "id": "0c6d842b",
   "metadata": {},
   "source": [
    "## Assign Multiple Values"
   ]
  },
  {
   "cell_type": "code",
   "execution_count": 15,
   "id": "3c615c28",
   "metadata": {},
   "outputs": [
    {
     "data": {
      "text/plain": [
       "'orange'"
      ]
     },
     "execution_count": 15,
     "metadata": {},
     "output_type": "execute_result"
    }
   ],
   "source": [
    "k=l=m=\"orange\"\n",
    "m"
   ]
  },
  {
   "cell_type": "code",
   "execution_count": 18,
   "id": "5d4a363b",
   "metadata": {},
   "outputs": [
    {
     "data": {
      "text/plain": [
       "'banana'"
      ]
     },
     "execution_count": 18,
     "metadata": {},
     "output_type": "execute_result"
    }
   ],
   "source": [
    "k,l,m=\"orange\",\"apple\",\"banana\"\n",
    "m"
   ]
  },
  {
   "cell_type": "markdown",
   "id": "3565b08c",
   "metadata": {},
   "source": [
    "## static value\n"
   ]
  },
  {
   "cell_type": "code",
   "execution_count": 19,
   "id": "e2e700eb",
   "metadata": {},
   "outputs": [
    {
     "name": "stdout",
     "output_type": "stream",
     "text": [
      "576\n"
     ]
    }
   ],
   "source": [
    "k=120\n",
    "l=456\n",
    "print(k+l)"
   ]
  },
  {
   "cell_type": "markdown",
   "id": "1156b83b",
   "metadata": {},
   "source": [
    "## dynamic value"
   ]
  },
  {
   "cell_type": "code",
   "execution_count": 20,
   "id": "d59cc540",
   "metadata": {},
   "outputs": [
    {
     "name": "stdin",
     "output_type": "stream",
     "text": [
      "enter your value 77\n"
     ]
    },
    {
     "name": "stdout",
     "output_type": "stream",
     "text": [
      "<class 'float'>\n"
     ]
    }
   ],
   "source": [
    "k=float(input(\"enter your value\"))\n",
    "print(type(k))"
   ]
  },
  {
   "cell_type": "code",
   "execution_count": 18,
   "id": "00a012ed-7f38-4c3f-85c4-98d9bba7e6b9",
   "metadata": {},
   "outputs": [
    {
     "name": "stdout",
     "output_type": "stream",
     "text": [
      "<class 'str'>\n"
     ]
    }
   ],
   "source": [
    "k=\"868779\"\n",
    "print(type(k))"
   ]
  },
  {
   "cell_type": "code",
   "execution_count": 12,
   "id": "0f767566-51bb-43d1-9a14-a5bf5ff24009",
   "metadata": {},
   "outputs": [
    {
     "name": "stdout",
     "output_type": "stream",
     "text": [
      "7\n"
     ]
    }
   ],
   "source": [
    "k_1=7\n",
    "print(k_1)"
   ]
  },
  {
   "cell_type": "code",
   "execution_count": 29,
   "id": "cfa7128f-e7a0-4107-8410-5b52c235a046",
   "metadata": {},
   "outputs": [
    {
     "name": "stdin",
     "output_type": "stream",
     "text": [
      "enter your variable 6.8\n"
     ]
    },
    {
     "name": "stdout",
     "output_type": "stream",
     "text": [
      "<class 'str'>\n"
     ]
    }
   ],
   "source": [
    "my_variable=input(\"enter your variable\")\n",
    "print(type(my_variable))"
   ]
  },
  {
   "cell_type": "code",
   "execution_count": null,
   "id": "85303b38-5c34-496d-bab6-8f346e6d8976",
   "metadata": {},
   "outputs": [],
   "source": []
  }
 ],
 "metadata": {
  "kernelspec": {
   "display_name": "Python 3 (ipykernel)",
   "language": "python",
   "name": "python3"
  },
  "language_info": {
   "codemirror_mode": {
    "name": "ipython",
    "version": 3
   },
   "file_extension": ".py",
   "mimetype": "text/x-python",
   "name": "python",
   "nbconvert_exporter": "python",
   "pygments_lexer": "ipython3",
   "version": "3.12.4"
  }
 },
 "nbformat": 4,
 "nbformat_minor": 5
}
