{
 "cells": [
  {
   "cell_type": "code",
   "execution_count": null,
   "id": "ba67384d-25b6-4624-93d9-121be6b88cfa",
   "metadata": {},
   "outputs": [
    {
     "name": "stdout",
     "output_type": "stream",
     "text": [
      "serma Calculator\n",
      "Operations: +, -, *, /\n"
     ]
    }
   ],
   "source": [
    "def calculator():\n",
    "    print(\"serma Calculator\")\n",
    "    print(\"Operations: +, -, *, /\")\n",
    "    \n",
    "    try:\n",
    "        num1 = float(input(\"Enter first number: \"))\n",
    "        op = input(\"Enter operator (+, -, *, /): \")\n",
    "        num2 = float(input(\"Enter second number: \"))\n",
    "\n",
    "        if op == '+':\n",
    "            result = num1 + num2\n",
    "        elif op == '-':\n",
    "            result = num1 - num2\n",
    "        elif op == '*':\n",
    "            result = num1 * num2\n",
    "        elif op == '/':\n",
    "            result = num1 / num2\n",
    "        else:\n",
    "            print(\"Invalid operator\")\n",
    "            return\n",
    "        \n",
    "        print(\"Result:\", result)\n",
    "\n",
    "    except ValueError:\n",
    "        print(\"Error: Please enter valid numbers.\")\n",
    "    except ZeroDivisionError:\n",
    "        print(\"Error: Cannot divide by zero.\")\n",
    "    except Exception as e:\n",
    "        print(f\"Unexpected error: {e}\")\n",
    "\n",
    "calculator()"
   ]
  },
  {
   "cell_type": "code",
   "execution_count": null,
   "id": "758589ec-f350-4c59-82a7-9e3157ca14ad",
   "metadata": {},
   "outputs": [],
   "source": []
  }
 ],
 "metadata": {
  "kernelspec": {
   "display_name": "Python 3 (ipykernel)",
   "language": "python",
   "name": "python3"
  },
  "language_info": {
   "codemirror_mode": {
    "name": "ipython",
    "version": 3
   },
   "file_extension": ".py",
   "mimetype": "text/x-python",
   "name": "python",
   "nbconvert_exporter": "python",
   "pygments_lexer": "ipython3",
   "version": "3.12.7"
  }
 },
 "nbformat": 4,
 "nbformat_minor": 5
}
