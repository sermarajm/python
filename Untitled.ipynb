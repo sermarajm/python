{
 "cells": [
  {
   "cell_type": "code",
   "execution_count": 2,
   "id": "a4f491d1-29c2-4b75-9033-0d085ac0c7e9",
   "metadata": {},
   "outputs": [
    {
     "name": "stdout",
     "output_type": "stream",
     "text": [
      "True\n"
     ]
    }
   ],
   "source": [
    " #1\n",
    "str1 = \"slient\"\n",
    "str2 = \"lisent\"\n",
    "str_clean1=str1.replace(\"\",\"\").lower()\n",
    "str_clean2=str2.replace(\"\",\"\").lower()\n",
    "count1={}\n",
    "count2={}\n",
    "for k in str_clean1:\n",
    "    count1[k]=count1.get(k,0)+1\n",
    "for k in str_clean2:\n",
    "    count2[k]=count2.get(k,0)+1\n",
    "anagram=count1==count2\n",
    "print(anagram)"
   ]
  },
  {
   "cell_type": "code",
   "execution_count": 2,
   "id": "d31a1c2f-1ed3-46d6-8c5c-4a4302bef7d9",
   "metadata": {},
   "outputs": [
    {
     "name": "stdout",
     "output_type": "stream",
     "text": [
      "True\n"
     ]
    }
   ],
   "source": [
    "#2\n",
    "text = \"madam\"\n",
    "is_palindrome = text == text[::1]\n",
    "print(is_palindrome)\n",
    "    "
   ]
  },
  {
   "cell_type": "code",
   "execution_count": 1,
   "id": "e4eb8526-7a4c-417b-9611-e3ae12e7c212",
   "metadata": {},
   "outputs": [
    {
     "name": "stdout",
     "output_type": "stream",
     "text": [
      "max: 89\n",
      "min: 7\n"
     ]
    }
   ],
   "source": [
    "#3\n",
    "k=[12,45,7,89,23]\n",
    "max_num=k[0]\n",
    "min_num=k[0]\n",
    "for numb in k:\n",
    "    if numb > max_num:\n",
    "        max_num =numb\n",
    "    if numb < min_num:\n",
    "        min_num =numb\n",
    "print(\"max:\",max_num)\n",
    "print(\"min:\",min_num)"
   ]
  },
  {
   "cell_type": "code",
   "execution_count": 7,
   "id": "3e5a83b9-7503-4627-aec5-b3afe77a2458",
   "metadata": {},
   "outputs": [
    {
     "name": "stdout",
     "output_type": "stream",
     "text": [
      "[1, 2, 3, 4, 5]\n"
     ]
    }
   ],
   "source": [
    "#5\n",
    "items =[1,2,2,3,4,4,5]\n",
    "unique_items =[]\n",
    "for item in items:\n",
    "    if item not in unique_items:\n",
    "        unique_items.append(item)\n",
    "print(unique_items)"
   ]
  },
  {
   "cell_type": "code",
   "execution_count": 8,
   "id": "1f1c6a12-3678-4cc3-9392-aaf3a7c1233d",
   "metadata": {},
   "outputs": [
    {
     "name": "stdin",
     "output_type": "stream",
     "text": [
      "enter the value 17\n"
     ]
    },
    {
     "name": "stdout",
     "output_type": "stream",
     "text": [
      "odd\n"
     ]
    }
   ],
   "source": [
    "#6\n",
    "numbers=int(input(\"enter the value\"))\n",
    "if numbers%2 ==0:\n",
    "    print(\"even\")\n",
    "else:\n",
    "    print(\"odd\")"
   ]
  },
  {
   "cell_type": "code",
   "execution_count": 11,
   "id": "5227bdcf-bed6-4d09-bdd8-349901e2ebad",
   "metadata": {},
   "outputs": [
    {
     "name": "stdout",
     "output_type": "stream",
     "text": [
      "vowles: 3\n"
     ]
    }
   ],
   "source": [
    "#7\n",
    "t=\"Hello world\"\n",
    "vowels=\"aeiouAEIOU\"\n",
    "count=0\n",
    "for i in t:\n",
    "    if i in vowels:\n",
    "        count+=1\n",
    "print(\"vowles:\",count)       "
   ]
  },
  {
   "cell_type": "code",
   "execution_count": 13,
   "id": "1ad52b20-a8ba-4c11-8caa-d708b499fceb",
   "metadata": {},
   "outputs": [
    {
     "name": "stdin",
     "output_type": "stream",
     "text": [
      "enter the number 5\n"
     ]
    },
    {
     "name": "stdout",
     "output_type": "stream",
     "text": [
      "120\n"
     ]
    }
   ],
   "source": [
    "#8\n",
    "n= int(input(\"enter the number\"))\n",
    "factorial=1\n",
    "for i in range(1,n+1):\n",
    "    factorial*=i\n",
    "print(factorial)\n"
   ]
  },
  {
   "cell_type": "code",
   "execution_count": 25,
   "id": "dab9e7d9-6802-459f-ade0-07b38d6dbe21",
   "metadata": {},
   "outputs": [
    {
     "name": "stdin",
     "output_type": "stream",
     "text": [
      "enter the number 4\n"
     ]
    },
    {
     "name": "stdout",
     "output_type": "stream",
     "text": [
      "not prime\n"
     ]
    }
   ],
   "source": [
    "#9\n",
    "number=int(input(\"enter the number\"))\n",
    "count=0\n",
    "for i in range(1,number):\n",
    "    if number%i==0:\n",
    "        count=count+1\n",
    "if count==1:\n",
    "     print(\"prime\")\n",
    "else:\n",
    "    print(\"not prime\")\n"
   ]
  },
  {
   "cell_type": "code",
   "execution_count": 5,
   "id": "6ae6c639-8315-4d4e-aff1-5e7b839f97a3",
   "metadata": {},
   "outputs": [
    {
     "name": "stdout",
     "output_type": "stream",
     "text": [
      "Reverse: nohtyp\n"
     ]
    }
   ],
   "source": [
    "#10\n",
    "t=\"python\"\n",
    "Reverse= t[::-1]\n",
    "print(\"Reverse:\",d)\n",
    "\n"
   ]
  },
  {
   "cell_type": "code",
   "execution_count": null,
   "id": "d9b4565a-035e-48ac-83ca-d7fa9dd60e29",
   "metadata": {},
   "outputs": [],
   "source": []
  }
 ],
 "metadata": {
  "kernelspec": {
   "display_name": "Python 3 (ipykernel)",
   "language": "python",
   "name": "python3"
  },
  "language_info": {
   "codemirror_mode": {
    "name": "ipython",
    "version": 3
   },
   "file_extension": ".py",
   "mimetype": "text/x-python",
   "name": "python",
   "nbconvert_exporter": "python",
   "pygments_lexer": "ipython3",
   "version": "3.12.7"
  }
 },
 "nbformat": 4,
 "nbformat_minor": 5
}
