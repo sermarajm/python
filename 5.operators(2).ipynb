{
 "cells": [
  {
   "cell_type": "markdown",
   "id": "8f2405b6",
   "metadata": {},
   "source": [
    "# Bitwise operator"
   ]
  },
  {
   "cell_type": "code",
   "execution_count": 1,
   "id": "ca20ff28",
   "metadata": {},
   "outputs": [
    {
     "name": "stdout",
     "output_type": "stream",
     "text": [
      "8\n"
     ]
    }
   ],
   "source": [
    "print(11&12)"
   ]
  },
  {
   "cell_type": "code",
   "execution_count": 2,
   "id": "2c07c09c-726d-4bd5-a11e-e480c8fd2484",
   "metadata": {},
   "outputs": [
    {
     "name": "stdout",
     "output_type": "stream",
     "text": [
      "0b1011\n",
      "15\n"
     ]
    }
   ],
   "source": [
    "a=11\n",
    "b=12\n",
    "c=bin(a)\n",
    "d=bin(b)\n",
    "print(a|b)\n"
   ]
  },
  {
   "cell_type": "code",
   "execution_count": 4,
   "id": "08147a83",
   "metadata": {},
   "outputs": [
    {
     "name": "stdout",
     "output_type": "stream",
     "text": [
      "2\n"
     ]
    }
   ],
   "source": [
    "print(6 & 3)"
   ]
  },
  {
   "cell_type": "code",
   "execution_count": 5,
   "id": "ab83192d-6657-436b-9d49-ab6b7113f9de",
   "metadata": {},
   "outputs": [
    {
     "name": "stdout",
     "output_type": "stream",
     "text": [
      "0b110\n",
      "0b11\n",
      "2\n"
     ]
    }
   ],
   "source": [
    "a=6\n",
    "b=3\n",
    "c=bin(a)\n",
    "d=bin(b)\n",
    "print(c)\n",
    "print(d)\n",
    "print(a&b)"
   ]
  },
  {
   "cell_type": "code",
   "execution_count": 3,
   "id": "b43a664e",
   "metadata": {},
   "outputs": [
    {
     "name": "stdout",
     "output_type": "stream",
     "text": [
      "5\n"
     ]
    }
   ],
   "source": [
    "#bitwise XOR \n",
    "\n",
    "#both one zero both zero zero\n",
    "\n",
    "print(6 ^ 3)"
   ]
  },
  {
   "cell_type": "code",
   "execution_count": 6,
   "id": "073aced7-0f94-45c0-bbbb-e6e1d6751758",
   "metadata": {},
   "outputs": [
    {
     "name": "stdout",
     "output_type": "stream",
     "text": [
      "0b110\n",
      "0b11\n",
      "5\n"
     ]
    }
   ],
   "source": [
    "a=6\n",
    "b=3\n",
    "c=bin(a)\n",
    "d=bin(b)\n",
    "print(c)\n",
    "print(d)\n",
    "print(a^b)"
   ]
  },
  {
   "cell_type": "code",
   "execution_count": 2,
   "id": "93113c9f",
   "metadata": {},
   "outputs": [
    {
     "name": "stdout",
     "output_type": "stream",
     "text": [
      "-4\n"
     ]
    }
   ],
   "source": [
    "print(~3)"
   ]
  },
  {
   "cell_type": "code",
   "execution_count": 12,
   "id": "b24d1964",
   "metadata": {},
   "outputs": [
    {
     "name": "stdout",
     "output_type": "stream",
     "text": [
      "24\n"
     ]
    }
   ],
   "source": [
    "print(3 << 3)\n",
    "#3 = 0000000000000011\n",
    "#24 = 0000000000011000"
   ]
  },
  {
   "cell_type": "code",
   "execution_count": 2,
   "id": "70281912",
   "metadata": {},
   "outputs": [
    {
     "name": "stdout",
     "output_type": "stream",
     "text": [
      "2\n"
     ]
    }
   ],
   "source": [
    "print(8 >> 2)\n",
    " #8 = 0000000000001000\n",
    " # 2 = 0000000000000010"
   ]
  },
  {
   "cell_type": "code",
   "execution_count": null,
   "id": "da191e0c",
   "metadata": {},
   "outputs": [],
   "source": []
  }
 ],
 "metadata": {
  "kernelspec": {
   "display_name": "Python 3 (ipykernel)",
   "language": "python",
   "name": "python3"
  },
  "language_info": {
   "codemirror_mode": {
    "name": "ipython",
    "version": 3
   },
   "file_extension": ".py",
   "mimetype": "text/x-python",
   "name": "python",
   "nbconvert_exporter": "python",
   "pygments_lexer": "ipython3",
   "version": "3.12.4"
  }
 },
 "nbformat": 4,
 "nbformat_minor": 5
}
