{
 "cells": [
  {
   "cell_type": "markdown",
   "id": "0f6ce1bb",
   "metadata": {},
   "source": [
    "\n",
    "\n",
    "\n",
    "## DATA TYPES"
   ]
  },
  {
   "cell_type": "markdown",
   "id": "065bdee0",
   "metadata": {},
   "source": [
    "## text type"
   ]
  },
  {
   "cell_type": "code",
   "execution_count": 1,
   "id": "17869227",
   "metadata": {},
   "outputs": [
    {
     "name": "stdout",
     "output_type": "stream",
     "text": [
      "<class 'str'>\n"
     ]
    }
   ],
   "source": [
    "#STRING \n",
    "\n",
    "k=\"HI\"\n",
    "print(type(k))"
   ]
  },
  {
   "cell_type": "markdown",
   "id": "fdd3272a",
   "metadata": {},
   "source": [
    "## numeric type"
   ]
  },
  {
   "cell_type": "code",
   "execution_count": 4,
   "id": "a2a9cfbd",
   "metadata": {},
   "outputs": [
    {
     "name": "stdout",
     "output_type": "stream",
     "text": [
      "<class 'int'>\n"
     ]
    }
   ],
   "source": [
    "#integer\n",
    "\n",
    "k=5\n",
    "print(type(k))"
   ]
  },
  {
   "cell_type": "code",
   "execution_count": 9,
   "id": "0742e69c",
   "metadata": {},
   "outputs": [
    {
     "name": "stdout",
     "output_type": "stream",
     "text": [
      "<class 'float'>\n"
     ]
    }
   ],
   "source": [
    "#float\n",
    "\n",
    "k=5.0\n",
    "print(type(k))"
   ]
  },
  {
   "cell_type": "code",
   "execution_count": 11,
   "id": "abe5ad53",
   "metadata": {},
   "outputs": [
    {
     "name": "stdout",
     "output_type": "stream",
     "text": [
      "<class 'complex'>\n"
     ]
    }
   ],
   "source": [
    "# complex\n",
    "\n",
    "k=1+2j\n",
    "print(type(k))"
   ]
  },
  {
   "cell_type": "markdown",
   "id": "da9d8746",
   "metadata": {},
   "source": [
    "## Casting"
   ]
  },
  {
   "cell_type": "code",
   "execution_count": 1,
   "id": "542e7d44",
   "metadata": {},
   "outputs": [
    {
     "data": {
      "text/plain": [
       "2"
      ]
     },
     "execution_count": 1,
     "metadata": {},
     "output_type": "execute_result"
    }
   ],
   "source": [
    "k=int(2.9)\n",
    "k"
   ]
  },
  {
   "cell_type": "code",
   "execution_count": 21,
   "id": "958b9e13",
   "metadata": {},
   "outputs": [
    {
     "data": {
      "text/plain": [
       "4.0"
      ]
     },
     "execution_count": 21,
     "metadata": {},
     "output_type": "execute_result"
    }
   ],
   "source": [
    "k=float(4)\n",
    "k"
   ]
  },
  {
   "cell_type": "code",
   "execution_count": 23,
   "id": "637fa0d5",
   "metadata": {},
   "outputs": [
    {
     "data": {
      "text/plain": [
       "(4+0j)"
      ]
     },
     "execution_count": 23,
     "metadata": {},
     "output_type": "execute_result"
    }
   ],
   "source": [
    "k=complex(4)\n",
    "k"
   ]
  },
  {
   "cell_type": "code",
   "execution_count": 26,
   "id": "9b02a5e9",
   "metadata": {},
   "outputs": [
    {
     "data": {
      "text/plain": [
       "'4'"
      ]
     },
     "execution_count": 26,
     "metadata": {},
     "output_type": "execute_result"
    }
   ],
   "source": [
    "k=str(4)\n",
    "k"
   ]
  },
  {
   "cell_type": "code",
   "execution_count": 3,
   "id": "013eb3d4",
   "metadata": {},
   "outputs": [
    {
     "name": "stdout",
     "output_type": "stream",
     "text": [
      "1.0\n",
      "289.0\n"
     ]
    }
   ],
   "source": [
    "k=1+289j\n",
    "print(k.real)\n",
    "print(k.imag)"
   ]
  },
  {
   "cell_type": "code",
   "execution_count": 4,
   "id": "de7b2db6-443a-4784-8bec-06fe0fda0f38",
   "metadata": {},
   "outputs": [
    {
     "name": "stdout",
     "output_type": "stream",
     "text": [
      "89\n",
      "89.0\n",
      "(89+0j)\n"
     ]
    }
   ],
   "source": [
    "k=7.8\n",
    "k1=int(k)\n",
    "k2=str(k)\n",
    "k3=complex(k)\n",
    "print(k1)\n",
    "print(k2)\n",
    "print(k3)"
   ]
  },
  {
   "cell_type": "code",
   "execution_count": 7,
   "id": "cfd9417c-d549-4806-bfb9-0069fdefe48c",
   "metadata": {},
   "outputs": [
    {
     "name": "stdin",
     "output_type": "stream",
     "text": [
      "enter the number 67\n"
     ]
    },
    {
     "name": "stdout",
     "output_type": "stream",
     "text": [
      "<class 'float'>\n"
     ]
    }
   ],
   "source": [
    "k=float(input(\"enter the number\"))\n",
    "print(type(k))"
   ]
  },
  {
   "cell_type": "code",
   "execution_count": null,
   "id": "1ccffa12-099f-485a-88f0-3d4d55b6ab41",
   "metadata": {},
   "outputs": [],
   "source": []
  }
 ],
 "metadata": {
  "kernelspec": {
   "display_name": "Python 3 (ipykernel)",
   "language": "python",
   "name": "python3"
  },
  "language_info": {
   "codemirror_mode": {
    "name": "ipython",
    "version": 3
   },
   "file_extension": ".py",
   "mimetype": "text/x-python",
   "name": "python",
   "nbconvert_exporter": "python",
   "pygments_lexer": "ipython3",
   "version": "3.12.4"
  }
 },
 "nbformat": 4,
 "nbformat_minor": 5
}
