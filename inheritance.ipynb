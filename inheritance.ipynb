{
 "cells": [
  {
   "cell_type": "code",
   "execution_count": 2,
   "id": "74959e0f-87fe-4a12-b2f5-b56c7b9fc040",
   "metadata": {},
   "outputs": [
    {
     "name": "stdout",
     "output_type": "stream",
     "text": [
      "hi\n",
      "haa sollu\n"
     ]
    }
   ],
   "source": [
    "# Single Inheritance:\n",
    "class you:\n",
    "    print(\"hi\")\n",
    "\n",
    "class me:\n",
    "    print(\"haa sollu\")\n",
    "p1=you()\n",
    "p2=me()\n",
    "\n"
   ]
  },
  {
   "cell_type": "code",
   "execution_count": 7,
   "id": "837c9fa0-79a5-4685-9cc5-f8f7122bbc0c",
   "metadata": {},
   "outputs": [
    {
     "name": "stdout",
     "output_type": "stream",
     "text": [
      "machinework\n"
     ]
    }
   ],
   "source": [
    "# Multiple Inheritance:\n",
    "class company:\n",
    "    def __init__(self,name,age,dept):\n",
    "        self.name=name\n",
    "        self.age=age\n",
    "        self.dept=dept\n",
    "    def details(self):\n",
    "        print(self.name)\n",
    "\n",
    "\n",
    "class detail:\n",
    "    def show(self):\n",
    "        print(self.age)\n",
    "\n",
    "\n",
    "\n",
    "class detail2:\n",
    "    def show2(self):\n",
    "        print(self.dept)\n",
    "\n",
    "\n",
    "\n",
    "class detail3(company,detail,detail2):\n",
    "    def show3(self):\n",
    "        print(self.dept)\n",
    "\n",
    "\n",
    "p1=detail3(\"serma\",\"22\",\"machinework\")\n",
    "\n",
    "p1.show2()\n"
   ]
  },
  {
   "cell_type": "code",
   "execution_count": 12,
   "id": "92314c10-9c07-428b-abc1-9b65044a4db3",
   "metadata": {},
   "outputs": [
    {
     "name": "stdout",
     "output_type": "stream",
     "text": [
      "for\n"
     ]
    }
   ],
   "source": [
    "#Multilevel Inheritance:\n",
    "class GrandParent:\n",
    "    def show(self):\n",
    "        print(\"hi\")\n",
    "\n",
    "class parent(GrandParent):\n",
    "     def show1(self):\n",
    "        print(\"hello\")\n",
    "\n",
    "\n",
    "class child1(parent):\n",
    "     def show2(self):\n",
    "        print(\"equal\")\n",
    "\n",
    "\n",
    "class Child(child1):\n",
    "    def show3(self):\n",
    "        print(\"for\")\n",
    "\n",
    "obj = Child()\n",
    "obj.show3() \n",
    "\n"
   ]
  },
  {
   "cell_type": "code",
   "execution_count": 1,
   "id": "8308a74b-b587-46c2-9b1d-8357ff05b39d",
   "metadata": {},
   "outputs": [
    {
     "name": "stdout",
     "output_type": "stream",
     "text": [
      "part1\n",
      "part2\n"
     ]
    }
   ],
   "source": [
    "# Hierarchical Inheritance:\n",
    "class movie:\n",
    "    def show(self):\n",
    "        print(\"noway\")\n",
    "\n",
    "class june2008(movie):\n",
    "   def show(self):\n",
    "        print(\"part1\")\n",
    "\n",
    "\n",
    "class june2019(movie):\n",
    "    def show(self):\n",
    "        print(\"part2\")\n",
    "\n",
    "\n",
    "obj1 = june2008()\n",
    "obj2 = june2019()\n",
    "obj1.show()  \n",
    "obj2.show()  "
   ]
  },
  {
   "cell_type": "code",
   "execution_count": 23,
   "id": "6031b9d0-3b4d-49b4-9de0-d1d7aafc44c7",
   "metadata": {},
   "outputs": [
    {
     "name": "stdout",
     "output_type": "stream",
     "text": [
      "tomorrow\n"
     ]
    }
   ],
   "source": [
    "# Hybrid Inheritance:\n",
    "class sports1:\n",
    "    def show(self):\n",
    "        print(\"football\")\n",
    "\n",
    "class sports2:\n",
    "    def show(self):\n",
    "        print(\"cricket\")\n",
    "\n",
    "class tournament1(sports1, sports2):\n",
    "    def show(self):\n",
    "        print(\"win\",\"loose\")\n",
    "\n",
    "class tournament2(tournament1):\n",
    "   def show(self):\n",
    "        print(\"tomorrow\")\n",
    "\n",
    "p1=tournament2()\n",
    "p1.show()"
   ]
  },
  {
   "cell_type": "code",
   "execution_count": null,
   "id": "afd0d5f8-16e6-48ce-93ca-e88a9cf06c89",
   "metadata": {},
   "outputs": [],
   "source": []
  }
 ],
 "metadata": {
  "kernelspec": {
   "display_name": "Python 3 (ipykernel)",
   "language": "python",
   "name": "python3"
  },
  "language_info": {
   "codemirror_mode": {
    "name": "ipython",
    "version": 3
   },
   "file_extension": ".py",
   "mimetype": "text/x-python",
   "name": "python",
   "nbconvert_exporter": "python",
   "pygments_lexer": "ipython3",
   "version": "3.12.7"
  }
 },
 "nbformat": 4,
 "nbformat_minor": 5
}
