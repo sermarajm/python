{
 "cells": [
  {
   "cell_type": "markdown",
   "id": "7ba60ca1-51a2-4002-b273-55c67fb38dcc",
   "metadata": {},
   "source": [
    "### Polymorphism means \"many forms.\" It allows different classes to have methods with the same name but different implementations."
   ]
  },
  {
   "cell_type": "code",
   "execution_count": 2,
   "id": "13afd458-573d-4f1f-aa8f-511a6211f311",
   "metadata": {},
   "outputs": [
    {
     "name": "stdout",
     "output_type": "stream",
     "text": [
      "Woof!\n",
      "Meow!\n"
     ]
    }
   ],
   "source": [
    "class Dog:\n",
    "    def sound(self):\n",
    "        return \"Woof!\"\n",
    "\n",
    "class Cat:\n",
    "    def sound(self):\n",
    "        return \"Meow!\"\n",
    "dog=Dog()\n",
    "print(dog.sound())\n",
    "\n",
    "cat=Cat()\n",
    "print(cat.sound())"
   ]
  },
  {
   "cell_type": "code",
   "execution_count": 5,
   "id": "6a9d23b0-7692-45d6-87f9-1f52000b5120",
   "metadata": {},
   "outputs": [
    {
     "name": "stdout",
     "output_type": "stream",
     "text": [
      "Some generic sound1\n"
     ]
    }
   ],
   "source": [
    "class Animal:\n",
    "    def sound(self):\n",
    "        return \"Some generic sound\"\n",
    "    def sound1(self):\n",
    "        return \"Some generic sound1\"\n",
    "\n",
    "class Dog(Animal):\n",
    "    def sound(self):\n",
    "        return \"Woof!\"  # Overriding parent method\n",
    "\n",
    "class Cat(Animal):\n",
    "    def sound(self):\n",
    "        return \"Meow!\"  # Overriding parent method\n",
    "\n",
    "cat=Cat()\n",
    "print(cat.sound1())\n",
    "\n",
    "# animal=Animal()\n",
    "# animal.sound()"
   ]
  },
  {
   "cell_type": "code",
   "execution_count": null,
   "id": "5c4aa762-f081-4951-9994-11d078be56b0",
   "metadata": {},
   "outputs": [],
   "source": []
  }
 ],
 "metadata": {
  "kernelspec": {
   "display_name": "Python 3 (ipykernel)",
   "language": "python",
   "name": "python3"
  },
  "language_info": {
   "codemirror_mode": {
    "name": "ipython",
    "version": 3
   },
   "file_extension": ".py",
   "mimetype": "text/x-python",
   "name": "python",
   "nbconvert_exporter": "python",
   "pygments_lexer": "ipython3",
   "version": "3.12.4"
  }
 },
 "nbformat": 4,
 "nbformat_minor": 5
}
