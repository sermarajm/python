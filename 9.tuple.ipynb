{
 "cells": [
  {
   "cell_type": "code",
   "execution_count": null,
   "id": "1d3b38c0",
   "metadata": {},
   "outputs": [],
   "source": [
    "mylist = [\"orange\", \"mango\", \"kiwi\", \"pineapple\", \"banana\"]\n",
    "for i in range(len(mylist)):\n",
    "    print(mylist[i])"
   ]
  },
  {
   "cell_type": "code",
   "execution_count": null,
   "id": "b1154640",
   "metadata": {},
   "outputs": [],
   "source": [
    "mylist = [\"orange\", \"mango\", \"kiwi\", \"pineapple\", \"banana\"]\n",
    "mylist.sort()\n",
    "print(mylist)\n"
   ]
  },
  {
   "cell_type": "code",
   "execution_count": null,
   "id": "fd29119d",
   "metadata": {},
   "outputs": [],
   "source": [
    "mylist = [100, 50, 65, 82, 23]\n",
    "mylist.sort()\n",
    "print(mylist)"
   ]
  },
  {
   "cell_type": "code",
   "execution_count": null,
   "id": "3f18a120",
   "metadata": {},
   "outputs": [],
   "source": [
    "mylist = [\"orange\", \"mango\", \"kiwi\", \"pineapple\", \"banana\"]\n",
    "mylist.sort(reverse = True)\n",
    "print(mylist)"
   ]
  },
  {
   "cell_type": "code",
   "execution_count": null,
   "id": "ddebf7f2",
   "metadata": {},
   "outputs": [],
   "source": [
    "mylist = [10,13,78,67]\n",
    "mylist.sort(reverse = True)\n",
    "print(mylist)"
   ]
  },
  {
   "cell_type": "code",
   "execution_count": null,
   "id": "1e794f1b",
   "metadata": {},
   "outputs": [],
   "source": [
    "mylist = [\"apple\", \"banana\", \"cherry\"]\n",
    "copylist = mylist.copy()\n",
    "print(copylist)"
   ]
  },
  {
   "cell_type": "code",
   "execution_count": 1,
   "id": "f93a7d5c",
   "metadata": {},
   "outputs": [
    {
     "name": "stdout",
     "output_type": "stream",
     "text": [
      "['a', 'b', 'c', 1, 2, 3]\n"
     ]
    }
   ],
   "source": [
    "list1 = [\"a\", \"b\", \"c\"]\n",
    "list2 = [1, 2, 3]\n",
    "\n",
    "list3 = list1 + list2\n",
    "print(list3)"
   ]
  },
  {
   "cell_type": "code",
   "execution_count": null,
   "id": "5e362d33-434b-4f31-ba40-6bc51803b717",
   "metadata": {},
   "outputs": [],
   "source": [
    "l1=[1,2,3,4,5]\n",
    "l2=[6,7,8,9,0]\n",
    "print(l1+l2)"
   ]
  },
  {
   "cell_type": "code",
   "execution_count": null,
   "id": "5837c6ce",
   "metadata": {},
   "outputs": [],
   "source": [
    "list1 = [\"a\", \"b\", \"c\",\"d\"]\n",
    "list2=[]\n",
    "for i in list1:\n",
    "    list2.append(i)\n",
    "list2"
   ]
  },
  {
   "cell_type": "markdown",
   "id": "95d78228",
   "metadata": {},
   "source": [
    "## Tuple"
   ]
  },
  {
   "cell_type": "markdown",
   "id": "69addba4",
   "metadata": {},
   "source": [
    "### Tuples are used to store multiple items in a single variable.\n",
    "### Ordered\n",
    "### Unchangeable\n",
    "### Allow Duplicates\n"
   ]
  },
  {
   "cell_type": "code",
   "execution_count": null,
   "id": "78faf1bb",
   "metadata": {},
   "outputs": [],
   "source": [
    "mytuple = (\"apple\", \"banana\", \"cherry\")\n",
    "print(mytuple)\n",
    "print(type(mytuple))"
   ]
  },
  {
   "cell_type": "code",
   "execution_count": null,
   "id": "9845e5b3-cb91-4037-86de-fa94c0cde496",
   "metadata": {},
   "outputs": [],
   "source": [
    "mylist1 = [\"apple\", \"banana\", \"cherry\"]\n",
    "print(type(mylist1))"
   ]
  },
  {
   "cell_type": "code",
   "execution_count": 4,
   "id": "ba06f315-3854-45f1-b3c7-d3e93b2888bd",
   "metadata": {},
   "outputs": [
    {
     "name": "stdout",
     "output_type": "stream",
     "text": [
      "[1, 2, 3, 4, 6, 88]\n"
     ]
    },
    {
     "data": {
      "text/plain": [
       "(1, 2, 3, 4, 6, 88)"
      ]
     },
     "execution_count": 4,
     "metadata": {},
     "output_type": "execute_result"
    }
   ],
   "source": [
    "t=(1,2,3,4,6)\n",
    "l=list(t)\n",
    "\n",
    "l.append(88)\n",
    "print(l)\n",
    "t=tuple(l)\n",
    "t"
   ]
  },
  {
   "cell_type": "code",
   "execution_count": null,
   "id": "0d9a59e6",
   "metadata": {},
   "outputs": [],
   "source": [
    "mytuple = (\"apple\", \"banana\", \"cherry\",\"hello\")\n",
    "print(mytuple[1:])"
   ]
  },
  {
   "cell_type": "code",
   "execution_count": null,
   "id": "66d0bb73",
   "metadata": {},
   "outputs": [],
   "source": [
    "mylist = (\"apple\", \"banana\", \"cherry\", \"orange\", \"kiwi\", \"melon\", \"mango\")\n",
    "print(mylist[:3])"
   ]
  },
  {
   "cell_type": "code",
   "execution_count": null,
   "id": "5b97a742",
   "metadata": {},
   "outputs": [],
   "source": [
    "x = (\"apple\", \"banana\", \"cherry\")\n",
    "y = list(x)\n",
    "y[1] = \"kiwi\"\n",
    "x = tuple(y)\n",
    "\n",
    "print(x)"
   ]
  },
  {
   "cell_type": "code",
   "execution_count": null,
   "id": "7daa2931",
   "metadata": {},
   "outputs": [],
   "source": [
    "veg = (\"apple\", \"banana\", \"cherry\")\n",
    "\n",
    "(green, yellow, red) = veg\n",
    "\n",
    "print(green)\n",
    "print(yellow)\n",
    "print(red)"
   ]
  },
  {
   "cell_type": "code",
   "execution_count": 5,
   "id": "8ec248f9",
   "metadata": {},
   "outputs": [
    {
     "ename": "ValueError",
     "evalue": "too many values to unpack (expected 3)",
     "output_type": "error",
     "traceback": [
      "\u001b[1;31m---------------------------------------------------------------------------\u001b[0m",
      "\u001b[1;31mValueError\u001b[0m                                Traceback (most recent call last)",
      "Cell \u001b[1;32mIn[5], line 3\u001b[0m\n\u001b[0;32m      1\u001b[0m veg \u001b[38;5;241m=\u001b[39m (\u001b[38;5;124m\"\u001b[39m\u001b[38;5;124mapple\u001b[39m\u001b[38;5;124m\"\u001b[39m, \u001b[38;5;124m\"\u001b[39m\u001b[38;5;124mbanana\u001b[39m\u001b[38;5;124m\"\u001b[39m, \u001b[38;5;124m\"\u001b[39m\u001b[38;5;124mcherry\u001b[39m\u001b[38;5;124m\"\u001b[39m, \u001b[38;5;124m\"\u001b[39m\u001b[38;5;124mstrawberry\u001b[39m\u001b[38;5;124m\"\u001b[39m, \u001b[38;5;124m\"\u001b[39m\u001b[38;5;124mraspberry\u001b[39m\u001b[38;5;124m\"\u001b[39m)\n\u001b[1;32m----> 3\u001b[0m (green, yellow,red) \u001b[38;5;241m=\u001b[39m veg\n\u001b[0;32m      5\u001b[0m \u001b[38;5;28mprint\u001b[39m(green)\n\u001b[0;32m      6\u001b[0m \u001b[38;5;28mprint\u001b[39m(yellow)\n",
      "\u001b[1;31mValueError\u001b[0m: too many values to unpack (expected 3)"
     ]
    }
   ],
   "source": [
    "veg = (\"apple\", \"banana\", \"cherry\", \"strawberry\", \"raspberry\")\n",
    "\n",
    "(green, yellow,red) = veg\n",
    "\n",
    "print(green)\n",
    "print(yellow)\n",
    "print(red)"
   ]
  },
  {
   "cell_type": "code",
   "execution_count": 11,
   "id": "db98b91a",
   "metadata": {},
   "outputs": [
    {
     "name": "stdout",
     "output_type": "stream",
     "text": [
      "['apple', 'mango', 'papaya', 'pineapple', 'cherry', 9, 0]\n",
      "0\n",
      "78\n",
      "778\n"
     ]
    }
   ],
   "source": [
    "veg = (\"apple\", \"mango\", \"papaya\", \"pineapple\", \"cherry\",9,0,0,78,778)\n",
    "\n",
    "(green, *tropic,yellow,red) = veg\n",
    "\n",
    "print(green)\n",
    "print(tropic)\n",
    "print(yellow)\n",
    "print(red)"
   ]
  },
  {
   "cell_type": "code",
   "execution_count": null,
   "id": "e3ec9ff1",
   "metadata": {},
   "outputs": [],
   "source": [
    "mytuple = (\"apple\", \"banana\", \"cherry\")\n",
    "for i in mytuple:\n",
    "  print(i)"
   ]
  },
  {
   "cell_type": "code",
   "execution_count": null,
   "id": "7efe83c8",
   "metadata": {},
   "outputs": [],
   "source": [
    "mylist = (\"apple\", \"banana\", \"cherry\")\n",
    "for i in range(len(mylist)):\n",
    "  print(mylist[i])\n",
    "    "
   ]
  },
  {
   "cell_type": "code",
   "execution_count": null,
   "id": "e3e10bc3",
   "metadata": {},
   "outputs": [],
   "source": [
    "mytuple1 = (\"a\", \"b\" , \"c\")\n",
    "mytuple2 = (1, 2, 3)\n",
    "\n",
    "mytuple3 = mytuple1 + mytuple2\n",
    "print(mytuple3)"
   ]
  },
  {
   "cell_type": "code",
   "execution_count": 12,
   "id": "147a7cb8",
   "metadata": {},
   "outputs": [
    {
     "name": "stdout",
     "output_type": "stream",
     "text": [
      "4\n"
     ]
    }
   ],
   "source": [
    "mylist = (1, 3,8, 7, 5, 4, 6, 8, 5)\n",
    "\n",
    "x = mylist.index(5)\n",
    "\n",
    "print(x)\n"
   ]
  },
  {
   "cell_type": "code",
   "execution_count": 13,
   "id": "9ffba4dd",
   "metadata": {},
   "outputs": [
    {
     "name": "stdout",
     "output_type": "stream",
     "text": [
      "2\n"
     ]
    }
   ],
   "source": [
    "mytuple = (1, 3, 7, 8, 7, 5, 4, 6, 8, 5)\n",
    "\n",
    "x = mytuple.count(7)\n",
    "\n",
    "print(x)"
   ]
  },
  {
   "cell_type": "code",
   "execution_count": null,
   "id": "7fc1d1f3",
   "metadata": {},
   "outputs": [],
   "source": [
    "mytuple = (1, 3, 7, 8, 7, 5, 4, 6, 8, 5)\n",
    "list1=list(mytuple)\n",
    "list1.append(\"hi\")\n",
    "mytuple=tuple(list1)\n",
    "mytuple"
   ]
  },
  {
   "cell_type": "code",
   "execution_count": null,
   "id": "4c560c83-ac9c-4022-a609-f58cfd696672",
   "metadata": {},
   "outputs": [],
   "source": [
    "#input\n",
    "k=(1,32,5,870,90)\n",
    "k1=(67,349)\n",
    "\n",
    "# output\n",
    "k=(1,32,5,870,90,67,349)"
   ]
  },
  {
   "cell_type": "code",
   "execution_count": null,
   "id": "9881f799-32be-4007-ae9f-09a7fe5d08cf",
   "metadata": {},
   "outputs": [],
   "source": [
    "k=tuple(list(k)+list(k1))\n",
    "k"
   ]
  },
  {
   "cell_type": "code",
   "execution_count": null,
   "id": "e85f28dd-1bfc-4ab7-826f-4bffa9b349f5",
   "metadata": {},
   "outputs": [],
   "source": [
    "k=[1,3,4,78,89]\n",
    "67"
   ]
  }
 ],
 "metadata": {
  "kernelspec": {
   "display_name": "Python 3 (ipykernel)",
   "language": "python",
   "name": "python3"
  },
  "language_info": {
   "codemirror_mode": {
    "name": "ipython",
    "version": 3
   },
   "file_extension": ".py",
   "mimetype": "text/x-python",
   "name": "python",
   "nbconvert_exporter": "python",
   "pygments_lexer": "ipython3",
   "version": "3.12.4"
  }
 },
 "nbformat": 4,
 "nbformat_minor": 5
}
