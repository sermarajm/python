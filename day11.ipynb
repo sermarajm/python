{
 "cells": [
  {
   "cell_type": "code",
   "execution_count": null,
   "id": "65d2770a-82ae-4e5a-a8b2-634e6d60eb4c",
   "metadata": {},
   "outputs": [],
   "source": [
    "l=[2,3,9,10,11,12,13]\n",
    "a=0\n",
    "for i in l:\n",
    "    a+=i\n",
    "print(a)"
   ]
  },
  {
   "cell_type": "code",
   "execution_count": 1,
   "id": "cef700f1-5457-459f-9d5d-bb674edb5f9f",
   "metadata": {},
   "outputs": [
    {
     "name": "stdout",
     "output_type": "stream",
     "text": [
      "1\n",
      "2\n",
      "4\n",
      "5\n",
      "6\n"
     ]
    }
   ],
   "source": [
    "#while loop\n",
    "i=0\n",
    "while i<6:\n",
    "    i+=1\n",
    "    if i==3:\n",
    "      continue\n",
    "    print(i) "
   ]
  },
  {
   "cell_type": "code",
   "execution_count": null,
   "id": "0fed830e-8079-4969-b422-72cbfef07a75",
   "metadata": {},
   "outputs": [],
   "source": [
    "i=4\n",
    "while i<=9:\n",
    "    print(i)\n",
    "    i +=1\n"
   ]
  },
  {
   "cell_type": "code",
   "execution_count": null,
   "id": "75cdfa6c-fae3-4dc8-802e-fc2eaf438d84",
   "metadata": {},
   "outputs": [],
   "source": [
    "i=3\n",
    "while i<=6:\n",
    "    print(i)\n",
    "    i+=1\n"
   ]
  },
  {
   "cell_type": "code",
   "execution_count": 6,
   "id": "ed36b907-f8e3-4cd1-ad91-b8619d2ea4b6",
   "metadata": {},
   "outputs": [
    {
     "name": "stdout",
     "output_type": "stream",
     "text": [
      "0 1\n",
      "1 556\n",
      "2 78\n",
      "3 90\n",
      "4 6\n",
      "5 89\n"
     ]
    }
   ],
   "source": [
    "k=[1,556,78,90,6,89]\n",
    "for i,j in enumerate(k):\n",
    "    print(i,j)\n",
    "    "
   ]
  },
  {
   "cell_type": "code",
   "execution_count": 12,
   "id": "415d6128-da38-4adb-8c54-b4474cb6e146",
   "metadata": {},
   "outputs": [
    {
     "name": "stdout",
     "output_type": "stream",
     "text": [
      "0\n",
      "1\n",
      "2\n",
      "3\n",
      "4\n",
      "5\n"
     ]
    }
   ],
   "source": [
    "k=[1,556,78,90,6,89]\n",
    "for i in range(len(k)):\n",
    "    print(i)"
   ]
  },
  {
   "cell_type": "code",
   "execution_count": 10,
   "id": "abc2c02d-ed9f-431f-afda-cf27394ea8c1",
   "metadata": {},
   "outputs": [
    {
     "name": "stdout",
     "output_type": "stream",
     "text": [
      "True\n"
     ]
    }
   ],
   "source": [
    "print(\"abcd\">\"ab\")"
   ]
  },
  {
   "cell_type": "code",
   "execution_count": null,
   "id": "d3b5c538-cdaf-42a0-afc8-022777e915b7",
   "metadata": {},
   "outputs": [],
   "source": []
  }
 ],
 "metadata": {
  "kernelspec": {
   "display_name": "Python 3 (ipykernel)",
   "language": "python",
   "name": "python3"
  },
  "language_info": {
   "codemirror_mode": {
    "name": "ipython",
    "version": 3
   },
   "file_extension": ".py",
   "mimetype": "text/x-python",
   "name": "python",
   "nbconvert_exporter": "python",
   "pygments_lexer": "ipython3",
   "version": "3.12.7"
  }
 },
 "nbformat": 4,
 "nbformat_minor": 5
}
