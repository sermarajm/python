{
 "cells": [
  {
   "cell_type": "code",
   "execution_count": 1,
   "id": "c05bd35e-44f4-43e0-a0f4-000d32002ab9",
   "metadata": {},
   "outputs": [
    {
     "name": "stdout",
     "output_type": "stream",
     "text": [
      "13\n"
     ]
    }
   ],
   "source": [
    "#arguments\n",
    "def add(a,b):\n",
    "    c=a+b\n",
    "    print(c)\n",
    "add(5,8)"
   ]
  },
  {
   "cell_type": "code",
   "execution_count": 5,
   "id": "f108762a-c632-4d6b-8c8e-378a9c167e19",
   "metadata": {},
   "outputs": [
    {
     "name": "stdout",
     "output_type": "stream",
     "text": [
      "12 -1\n"
     ]
    }
   ],
   "source": [
    "def add(a,b):\n",
    "    c=a+b\n",
    "    return c\n",
    "k1=add(4,8)\n",
    "\n",
    "def sub(r,n):\n",
    "    c=r-n\n",
    "    return c\n",
    "k2=sub(7,8)\n",
    "print(k1,k2)"
   ]
  },
  {
   "cell_type": "code",
   "execution_count": null,
   "id": "934fda5c-8db5-4530-bb68-5c335890ceda",
   "metadata": {},
   "outputs": [],
   "source": []
  }
 ],
 "metadata": {
  "kernelspec": {
   "display_name": "Python 3 (ipykernel)",
   "language": "python",
   "name": "python3"
  },
  "language_info": {
   "codemirror_mode": {
    "name": "ipython",
    "version": 3
   },
   "file_extension": ".py",
   "mimetype": "text/x-python",
   "name": "python",
   "nbconvert_exporter": "python",
   "pygments_lexer": "ipython3",
   "version": "3.12.7"
  }
 },
 "nbformat": 4,
 "nbformat_minor": 5
}
