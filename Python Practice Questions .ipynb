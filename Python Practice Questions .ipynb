{
 "cells": [
  {
   "cell_type": "code",
   "execution_count": 73,
   "id": "35358219-5c8d-438e-be95-0af5bbb6d18a",
   "metadata": {},
   "outputs": [
    {
     "name": "stdout",
     "output_type": "stream",
     "text": [
      "True\n"
     ]
    }
   ],
   "source": [
    "#Check for Anagram  1\n",
    "str1=\"slient\"\n",
    "str2=\"lisent\"\n",
    "str_clean1=str1.replace(\"\",\"\").lower()\n",
    "str_clean2=str2.replace(\"\",\"\").lower()\n",
    "c1={}\n",
    "c2={}\n",
    "for k in str_clean1:\n",
    "    c1[k]=c1.get(k,0)+1\n",
    "for k in str_clean2:\n",
    "    c2[k]=c2.get(k,0)+1\n",
    "anagram=c1==c2\n",
    "print(anagram)\n",
    "    "
   ]
  },
  {
   "cell_type": "code",
   "execution_count": 74,
   "id": "183df0aa-618f-4192-8a88-43cd28d8f15d",
   "metadata": {},
   "outputs": [
    {
     "name": "stdout",
     "output_type": "stream",
     "text": [
      "True\n"
     ]
    }
   ],
   "source": [
    "#Check for Palindrome  2\n",
    "text=\"madam\"\n",
    "is_palindrome=text==text[::-1]\n",
    "print(is_palindrome)"
   ]
  },
  {
   "cell_type": "code",
   "execution_count": 75,
   "id": "6dedeffe-9c49-4c5c-909c-da623f47d59a",
   "metadata": {},
   "outputs": [
    {
     "name": "stdin",
     "output_type": "stream",
     "text": [
      "Enter a number:  5\n"
     ]
    },
    {
     "name": "stdout",
     "output_type": "stream",
     "text": [
      "5 is Prime.\n"
     ]
    }
   ],
   "source": [
    "#Prime or Not Prime  3\n",
    "def is_prime(n):\n",
    "    if n <= 1:\n",
    "        return False\n",
    "\n",
    "    for i in range(2, n):\n",
    "        if n % i == 0:\n",
    "            return False  \n",
    "\n",
    "    return True  \n",
    "\n",
    "number = int(input(\"Enter a number: \"))\n",
    "\n",
    "\n",
    "if is_prime(number):\n",
    "    print(f\"{number} is Prime.\")\n",
    "else:\n",
    "    print(f\"{number} is Not Prime.\")"
   ]
  },
  {
   "cell_type": "code",
   "execution_count": 76,
   "id": "91c69f00-6740-492f-8be4-c15933dacacb",
   "metadata": {},
   "outputs": [
    {
     "name": "stdin",
     "output_type": "stream",
     "text": [
      "enter the value: 6\n"
     ]
    },
    {
     "name": "stdout",
     "output_type": "stream",
     "text": [
      "0 1 1 2 3 5 "
     ]
    }
   ],
   "source": [
    "#Fibonacci Series  4\n",
    "def fibonacci (n):\n",
    "    a,b=0,1\n",
    "    for _ in range(n):\n",
    "        print(a,end=' ')\n",
    "        a,b=b,a+b\n",
    "number= int(input(\"enter the value:\"))\n",
    "fibonacci(number)"
   ]
  },
  {
   "cell_type": "code",
   "execution_count": 77,
   "id": "72ba21d2-ed4d-4994-aac6-5c8d5788e5b4",
   "metadata": {},
   "outputs": [
    {
     "name": "stdout",
     "output_type": "stream",
     "text": [
      "max: 89\n",
      "min: 23\n"
     ]
    }
   ],
   "source": [
    "#Find Maximum and Minimum Number  5\n",
    "k=[23,45,67,89,56]\n",
    "max_num=k[0]\n",
    "min_num=k[0]\n",
    "for number in k:\n",
    "    if number > max_num:\n",
    "        max_num=number\n",
    "    if number < min_num:\n",
    "        min_num=number\n",
    "print(\"max:\",max_num)\n",
    "print(\"min:\",min_num)"
   ]
  },
  {
   "cell_type": "code",
   "execution_count": 78,
   "id": "95f0ede6-83a1-4bc1-b04d-c18bf0b71da5",
   "metadata": {},
   "outputs": [
    {
     "name": "stdin",
     "output_type": "stream",
     "text": [
      "Enter numbers separated by space:  78 78 98 89\n"
     ]
    },
    {
     "name": "stdout",
     "output_type": "stream",
     "text": [
      "Second smallest number is: 89.0\n",
      "Second largest number is: 89.0\n"
     ]
    }
   ],
   "source": [
    "#Find 2nd Largest and 2nd Smallest Number  6\n",
    "numbers = list(map(float, input(\"Enter numbers separated by space: \").split()))\n",
    "\n",
    "\n",
    "unique_numbers = list(set(numbers))\n",
    "\n",
    "\n",
    "if len(unique_numbers) < 2:\n",
    "    print(\"Not enough unique numbers to find 2nd largest and 2nd smallest.\")\n",
    "else:\n",
    "   \n",
    "    unique_numbers.sort()\n",
    "\n",
    "    \n",
    "    second_smallest = unique_numbers[1]\n",
    "    second_largest = unique_numbers[-2]\n",
    "\n",
    "    print(\"Second smallest number is:\", second_smallest)\n",
    "    print(\"Second largest number is:\", second_largest)\n",
    "                 #or\n",
    "# numbers = list(map(float, input(\"Enter numbers separated by space: \").split()))\n",
    "\n",
    "\n",
    "# unique_numbers = list(set(numbers))\n",
    "\n",
    "# if len(unique_numbers) < 2:\n",
    "#     print(\"Not enough unique numbers to find 2nd largest and 2nd smallest.\")\n",
    "# else:\n",
    "#     largest = second_largest = float('-inf')\n",
    "#     smallest = second_smallest = float('inf')\n",
    "\n",
    "#     for num in unique_numbers:\n",
    "#         if num > largest:\n",
    "#             second_largest = largest\n",
    "#             largest = num\n",
    "#         elif num > second_largest:\n",
    "#             second_largest = num\n",
    "\n",
    "#         if num < smallest:\n",
    "#             second_smallest = smallest\n",
    "#             smallest = num\n",
    "#         elif num < second_smallest:\n",
    "#             second_smallest = num\n",
    "\n",
    "#     print(\"Second smallest number is:\", second_smallest)\n",
    "#     print(\"Second largest number is:\", second_largest)\n",
    "\n"
   ]
  },
  {
   "cell_type": "code",
   "execution_count": 7,
   "id": "d8f3d192-4ecb-456d-9153-62763dde2804",
   "metadata": {
    "scrolled": true
   },
   "outputs": [
    {
     "name": "stdout",
     "output_type": "stream",
     "text": [
      "ascending: [2, 3, 5, 55, 78]\n",
      "decending: [78, 55, 5, 3, 2]\n"
     ]
    }
   ],
   "source": [
    "#Sort in Ascending and Descending Order  7\n",
    "number=[3,55,78,2,5]\n",
    "ascending=sorted(number)\n",
    "print(\"ascending:\",ascending)\n",
    "decending=sorted(number,reverse=True)\n",
    "print(\"decending:\",decending)"
   ]
  },
  {
   "cell_type": "code",
   "execution_count": 79,
   "id": "eb1e414b-8abe-4dee-a21f-faaf00c9b2e9",
   "metadata": {},
   "outputs": [
    {
     "name": "stdout",
     "output_type": "stream",
     "text": [
      "vowels: 3\n",
      "consonants: 5\n"
     ]
    }
   ],
   "source": [
    "#. Count Vowels and Consonants in a String  8\n",
    "def vowels(text):\n",
    "   vowels=\"aeiouAEIOU\"\n",
    "   v_c =0\n",
    "   c_c =0\n",
    "   for char in text:\n",
    "       if char.isalpha():\n",
    "           if char in vowels:\n",
    "               v_c +=1\n",
    "           else:\n",
    "               c_c +=1\n",
    "   return v_c, c_c      \n",
    "input_string=\"sermaraj\"\n",
    "vowels,consonants=vowels(input_string)\n",
    "print(\"vowels:\",vowels)\n",
    "print(\"consonants:\",consonants)\n"
   ]
  },
  {
   "cell_type": "code",
   "execution_count": 80,
   "id": "21286d2b-8a91-48eb-b2cb-82bcbfac669b",
   "metadata": {},
   "outputs": [
    {
     "name": "stdout",
     "output_type": "stream",
     "text": [
      "Sum of digits: 15\n"
     ]
    }
   ],
   "source": [
    "# Sum of Digits in a Number 9\n",
    "\n",
    "def sum_of_digits(n):\n",
    "    n = abs(n) \n",
    "    total = 0\n",
    "    for digit in str(n):\n",
    "        total += int(digit)\n",
    "    return total\n",
    "\n",
    "\n",
    "num = 12345\n",
    "print(\"Sum of digits:\", sum_of_digits(num))"
   ]
  },
  {
   "cell_type": "code",
   "execution_count": 81,
   "id": "f460dfe0-47ad-471e-ab65-ceab9685d956",
   "metadata": {},
   "outputs": [
    {
     "name": "stdout",
     "output_type": "stream",
     "text": [
      "factorial of  5 is 2\n"
     ]
    }
   ],
   "source": [
    "#Factorial of a Number  10\n",
    "def factorial(n):\n",
    "    if n<1:\n",
    "        return False\n",
    "    result =1\n",
    "    for i in range(2,n+1):\n",
    "        result*=i\n",
    "        return result\n",
    "number=5\n",
    "print(\"factorial of \", number,\"is\",factorial(number) )"
   ]
  },
  {
   "cell_type": "code",
   "execution_count": 82,
   "id": "846f97c1-4309-4e1e-bf83-6a49b827d804",
   "metadata": {},
   "outputs": [
    {
     "name": "stdin",
     "output_type": "stream",
     "text": [
      "enter the num: 6\n"
     ]
    },
    {
     "name": "stdout",
     "output_type": "stream",
     "text": [
      "even\n"
     ]
    }
   ],
   "source": [
    "#check even or add  11\n",
    "num=int(input(\"enter the num:\"))\n",
    "if num%2 == 0:\n",
    "    print(\"even\")\n",
    "else:\n",
    "    print(\"odd\")\n"
   ]
  },
  {
   "cell_type": "code",
   "execution_count": 83,
   "id": "7d361853-bc01-4ba2-abf3-2b2de251f46c",
   "metadata": {},
   "outputs": [
    {
     "name": "stdout",
     "output_type": "stream",
     "text": [
      "the largest of three numbers: 89\n"
     ]
    }
   ],
   "source": [
    "#Find the Largest of Three Numbers  12\n",
    "numbers=[12,45,54,45,67,89]\n",
    "largest= numbers[0]\n",
    "for num in numbers:\n",
    "    if num > largest:\n",
    "        largest= num\n",
    "print (\"the largest of three numbers:\",largest)#xxxxxxxxxxxxxxxxxxxxxxxx\n",
    "\n",
    "# a = float(input(\"Enter first number: \"))\n",
    "# b = float(input(\"Enter second number: \"))\n",
    "# c = float(input(\"Enter third number: \"))\n",
    "\n",
    "# \n",
    "# if a >= b and a >= c:\n",
    "#     largest = a\n",
    "# elif b >= a and b >= c:\n",
    "#     largest = b\n",
    "# else:\n",
    "#     largest = c\n",
    "\n",
    "# print(\"The largest number is:\", largest)\n"
   ]
  },
  {
   "cell_type": "code",
   "execution_count": 85,
   "id": "7d5dfd3e-d6dc-4a59-a4d7-87680e650227",
   "metadata": {},
   "outputs": [
    {
     "name": "stdin",
     "output_type": "stream",
     "text": [
      "Enter elements separated by space:  67 56 6 8 6 67 55 45 45 45 \n"
     ]
    },
    {
     "name": "stdout",
     "output_type": "stream",
     "text": [
      "67 occurs 2 times\n",
      "56 occurs 1 times\n",
      "6 occurs 2 times\n",
      "8 occurs 1 times\n",
      "55 occurs 1 times\n",
      "45 occurs 3 times\n"
     ]
    }
   ],
   "source": [
    "#Count the Frequency of Elements in a List  13\n",
    "elements = input(\"Enter elements separated by space: \").split()\n",
    "\n",
    "\n",
    "frequency = {}\n",
    "\n",
    "\n",
    "for item in elements:\n",
    "    if item in frequency:\n",
    "        frequency[item] += 1\n",
    "    else:\n",
    "        frequency[item] = 1\n",
    "\n",
    "\n",
    "for key, value in frequency.items():\n",
    "    print(f\"{key} occurs {value} times\")"
   ]
  },
  {
   "cell_type": "code",
   "execution_count": 86,
   "id": "f525c848-8de6-4ed2-b727-7761c2c52089",
   "metadata": {},
   "outputs": [
    {
     "name": "stdout",
     "output_type": "stream",
     "text": [
      "Reversed string: olleh\n"
     ]
    }
   ],
   "source": [
    "#. Reverse a String 14\n",
    "def reverse_string(s):\n",
    "    return s[::-1]\n",
    "\n",
    "\n",
    "text = \"hello\"\n",
    "print(\"Reversed string:\", reverse_string(text))"
   ]
  },
  {
   "cell_type": "code",
   "execution_count": 87,
   "id": "d94940bc-b7f3-4a96-b4e8-8be036978159",
   "metadata": {},
   "outputs": [
    {
     "name": "stdin",
     "output_type": "stream",
     "text": [
      "Enter a number:  153\n"
     ]
    },
    {
     "name": "stdout",
     "output_type": "stream",
     "text": [
      "153 is an Armstrong number.\n"
     ]
    }
   ],
   "source": [
    "#Check Armstrong Number 15\n",
    "def is_armsstrong (n):\n",
    "    num_str=str(n)\n",
    "    num_digits=len(num_str)\n",
    "    total=sum(int(digit)**num_digits for digit in num_str)\n",
    "    return total == n\n",
    "num = int(input(\"Enter a number: \"))\n",
    "\n",
    "if is_armsstrong(num):\n",
    "    print(f\"{num} is an Armstrong number.\")\n",
    "else:\n",
    "    print(f\"{num} is NOT an Armstrong number.\")\n",
    "    "
   ]
  },
  {
   "cell_type": "code",
   "execution_count": 88,
   "id": "81391ac6-15ff-4f4d-81e6-404a8a0c317f",
   "metadata": {},
   "outputs": [
    {
     "name": "stdin",
     "output_type": "stream",
     "text": [
      "Enter a number:  4\n"
     ]
    },
    {
     "name": "stdout",
     "output_type": "stream",
     "text": [
      "4 x 1 =4\n",
      "4 x 2 =8\n",
      "4 x 3 =12\n",
      "4 x 4 =16\n",
      "4 x 5 =20\n",
      "4 x 6 =24\n",
      "4 x 7 =28\n",
      "4 x 8 =32\n",
      "4 x 9 =36\n",
      "4 x 10 =40\n"
     ]
    }
   ],
   "source": [
    "#. Generate Multiplication Table 16\n",
    "\n",
    "def multiplication (n):\n",
    "    for i in range(1,11):\n",
    "        print(f\"{n} x {i} ={n*i}\")\n",
    "num = int(input(\"Enter a number: \"))\n",
    "multiplication(num)"
   ]
  },
  {
   "cell_type": "code",
   "execution_count": 89,
   "id": "7c238dad-12dc-487b-9825-c5691503d49c",
   "metadata": {},
   "outputs": [
    {
     "name": "stdout",
     "output_type": "stream",
     "text": [
      "Without duplicates: [1, 2, 3, 4, 5]\n"
     ]
    }
   ],
   "source": [
    "#Remove Duplicates from a List 17\n",
    "def remove_duplicates(lst):\n",
    "    return list(set(lst))\n",
    "\n",
    "my_list = [1, 2, 2, 3, 4, 4, 5]\n",
    "print(\"Without duplicates:\", remove_duplicates(my_list))"
   ]
  },
  {
   "cell_type": "code",
   "execution_count": 90,
   "id": "36278f37-e6b2-4288-af0c-0e2340840df2",
   "metadata": {},
   "outputs": [
    {
     "name": "stdout",
     "output_type": "stream",
     "text": [
      "mergeandsort; [1, 5, 6, 7, 8, 9]\n"
     ]
    }
   ],
   "source": [
    "#Merge and Sort Two Lists 18\n",
    "def mergeandsort(list1,list2):\n",
    "    return sorted(list1+list2)\n",
    "    \n",
    "a=[6,7,8]\n",
    "b=[9,5,1]\n",
    "result=mergeandsort(a,b)\n",
    "print(\"mergeandsort;\",result)\n"
   ]
  },
  {
   "cell_type": "code",
   "execution_count": 92,
   "id": "d8b10e28-339e-4621-8257-87e86a77ced4",
   "metadata": {},
   "outputs": [
    {
     "name": "stdin",
     "output_type": "stream",
     "text": [
      "Enter temperature in Celsius:  99\n"
     ]
    },
    {
     "name": "stdout",
     "output_type": "stream",
     "text": [
      "99.0°C = 210.2°F\n"
     ]
    }
   ],
   "source": [
    "#Convert Celsius to Fahrenheit 19\n",
    "def celsius_to_fahrenheit(celsius):\n",
    "    return (celsius * 9/5) + 32\n",
    "\n",
    "\n",
    "c = float(input(\"Enter temperature in Celsius: \"))\n",
    "f = celsius_to_fahrenheit(c)\n",
    "print(f\"{c}°C = {f}°F\")"
   ]
  },
  {
   "cell_type": "code",
   "execution_count": 93,
   "id": "859022cc-8260-4cf4-b563-e39de361e27d",
   "metadata": {},
   "outputs": [
    {
     "name": "stdin",
     "output_type": "stream",
     "text": [
      "Enter a year:  4\n"
     ]
    },
    {
     "name": "stdout",
     "output_type": "stream",
     "text": [
      "4 is a Leap Year.\n"
     ]
    }
   ],
   "source": [
    "#Check Leap Year 20\n",
    "def is_leap_year(year):\n",
    "    if (year % 4 == 0) and (year % 100 != 0 or year % 400 == 0):\n",
    "        return True\n",
    "    else:\n",
    "        return False\n",
    "\n",
    "\n",
    "year = int(input(\"Enter a year: \"))\n",
    "if is_leap_year(year):\n",
    "    print(f\"{year} is a Leap Year.\")\n",
    "else:\n",
    "    print(f\"{year} is NOT a Leap Year.\")"
   ]
  },
  {
   "cell_type": "code",
   "execution_count": 94,
   "id": "b9bd5509-9e92-4df6-80b9-9e45c1d6a4e2",
   "metadata": {},
   "outputs": [
    {
     "name": "stdout",
     "output_type": "stream",
     "text": [
      "Common elements: [4, 5]\n"
     ]
    }
   ],
   "source": [
    "#Find Common Elements Between Two Lists  21\n",
    "def find_common(list1, list2):\n",
    "    return list(set(list1).intersection(list2))\n",
    "\n",
    "\n",
    "\n",
    "a = [1, 2, 3, 4, 5]\n",
    "b = [4, 5, 6, 7]\n",
    "print(\"Common elements:\", find_common(a, b))"
   ]
  },
  {
   "cell_type": "code",
   "execution_count": 95,
   "id": "668552f1-1651-4675-bc4d-5b805fb79f0a",
   "metadata": {},
   "outputs": [
    {
     "name": "stdin",
     "output_type": "stream",
     "text": [
      "Enter the radius of the circle:  6\n"
     ]
    },
    {
     "name": "stdout",
     "output_type": "stream",
     "text": [
      "Area of the circle with radius 6.0 is 113.10\n"
     ]
    }
   ],
   "source": [
    "#Calculate the Area of a Circle 22\n",
    "import math\n",
    "\n",
    "def area_of_circle(radius):\n",
    "    return math.pi * radius ** 2\n",
    "\n",
    "\n",
    "r = float(input(\"Enter the radius of the circle: \"))\n",
    "area = area_of_circle(r)\n",
    "print(f\"Area of the circle with radius {r} is {area:.2f}\")"
   ]
  },
  {
   "cell_type": "code",
   "execution_count": 98,
   "id": "92ac270a-5bb1-40c4-a2fa-606f2d503b37",
   "metadata": {},
   "outputs": [
    {
     "name": "stdin",
     "output_type": "stream",
     "text": [
      "Enter a number:  -67\n"
     ]
    },
    {
     "name": "stdout",
     "output_type": "stream",
     "text": [
      "The number is Negative.\n"
     ]
    }
   ],
   "source": [
    "#Check Positive, Negative, or Zero 23\n",
    "def check_number(n):\n",
    "    if n > 0:\n",
    "        return \"Positive\"\n",
    "    elif n < 0:\n",
    "        return \"Negative\"\n",
    "    else:\n",
    "        return \"Zero\"\n",
    "\n",
    "num = float(input(\"Enter a number: \"))\n",
    "result = check_number(num)\n",
    "print(f\"The number is {result}.\")"
   ]
  },
  {
   "cell_type": "code",
   "execution_count": 99,
   "id": "7811a816-591b-46c0-b1bf-42895be99187",
   "metadata": {},
   "outputs": [
    {
     "name": "stdout",
     "output_type": "stream",
     "text": [
      "Without punctuation: Hello world Its a great day isnt it\n"
     ]
    }
   ],
   "source": [
    "#. Remove Punctuation from a String 24\n",
    "import string\n",
    "\n",
    "def remove_punctuation(text):\n",
    "    return text.translate(str.maketrans('', '', string.punctuation))\n",
    "\n",
    "\n",
    "sentence = \"Hello, world! It's a great day: isn't it?\"\n",
    "cleaned = remove_punctuation(sentence)\n",
    "print(\"Without punctuation:\", cleaned)"
   ]
  },
  {
   "cell_type": "code",
   "execution_count": 100,
   "id": "03b23f9f-0a0b-4dac-8384-303d8c1c84af",
   "metadata": {},
   "outputs": [
    {
     "name": "stdin",
     "output_type": "stream",
     "text": [
      "Enter a decimal number:  7\n"
     ]
    },
    {
     "name": "stdout",
     "output_type": "stream",
     "text": [
      "Binary of 7 is 111\n"
     ]
    }
   ],
   "source": [
    "#Convert Decimal to Binary  25\n",
    "def decimal_to_binary(n):\n",
    "    return bin(n)[2:]  \n",
    "num = int(input(\"Enter a decimal number: \"))\n",
    "print(f\"Binary of {num} is {decimal_to_binary(num)}\")"
   ]
  },
  {
   "cell_type": "code",
   "execution_count": 101,
   "id": "f285f519-550a-48f1-a06d-ace8ecd4d280",
   "metadata": {},
   "outputs": [
    {
     "name": "stdout",
     "output_type": "stream",
     "text": [
      "Sum of all elements: 15\n"
     ]
    }
   ],
   "source": [
    "#Sum of All Elements in a List 26\n",
    "def sum_of_list(lst):\n",
    "    return sum(lst)\n",
    "\n",
    "numbers = [1, 2, 3, 4, 5]\n",
    "print(\"Sum of all elements:\", sum_of_list(numbers))"
   ]
  },
  {
   "cell_type": "code",
   "execution_count": 103,
   "id": "506dc94e-4caa-49fa-92c5-eb3944ecec2a",
   "metadata": {},
   "outputs": [
    {
     "name": "stdin",
     "output_type": "stream",
     "text": [
      "Enter the base:  7\n",
      "Enter the exponent:  9\n"
     ]
    },
    {
     "name": "stdout",
     "output_type": "stream",
     "text": [
      "7.0 raised to the power 9 is 40353607.0\n"
     ]
    }
   ],
   "source": [
    "#Calculate Power Without Using Power Operator  27\n",
    "def power(base, exponent):\n",
    "    result = 1\n",
    "    \n",
    "    if exponent < 0:\n",
    "        base = 1 / base\n",
    "        exponent = -exponent\n",
    "\n",
    "    for _ in range(exponent):\n",
    "        result *= base\n",
    "    return result\n",
    "\n",
    "\n",
    "b = float(input(\"Enter the base: \"))\n",
    "e = int(input(\"Enter the exponent: \"))\n",
    "print(f\"{b} raised to the power {e} is {power(b, e)}\")"
   ]
  },
  {
   "cell_type": "code",
   "execution_count": 104,
   "id": "be058348-0d32-4838-be70-8bb4d5706beb",
   "metadata": {},
   "outputs": [
    {
     "name": "stdin",
     "output_type": "stream",
     "text": [
      "Enter a string:  78\n"
     ]
    },
    {
     "name": "stdout",
     "output_type": "stream",
     "text": [
      "All characters are unique.\n"
     ]
    }
   ],
   "source": [
    "#Check if All Characters in String are Unique  28\n",
    "def all_unique(s):\n",
    "    return len(set(s)) == len(s)\n",
    "\n",
    "\n",
    "string = input(\"Enter a string: \")\n",
    "if all_unique(string):\n",
    "    print(\"All characters are unique.\")\n",
    "else:\n",
    "    print(\"There are duplicate characters.\")"
   ]
  },
  {
   "cell_type": "code",
   "execution_count": 105,
   "id": "37136e9b-ddca-4d0b-9ac8-7b0415a0285f",
   "metadata": {},
   "outputs": [
    {
     "name": "stdout",
     "output_type": "stream",
     "text": [
      "Length of the list is: 5\n"
     ]
    }
   ],
   "source": [
    "#Find the Length of a List Without Using len()  29\n",
    "def list_length(lst):\n",
    "    count = 0\n",
    "    for _ in lst:\n",
    "        count += 1\n",
    "    return count\n",
    "\n",
    "my_list = [10, 20, 30, 40, 50]\n",
    "print(\"Length of the list is:\", list_length(my_list))"
   ]
  },
  {
   "cell_type": "code",
   "execution_count": 108,
   "id": "61b5def5-7540-427f-a010-cb27746b609d",
   "metadata": {},
   "outputs": [
    {
     "name": "stdout",
     "output_type": "stream",
     "text": [
      "The list is a palindrome.\n"
     ]
    }
   ],
   "source": [
    "#Check if List is Palindrome  30\n",
    "def is_palindrome(lst):\n",
    "    return lst == lst[::-1]\n",
    "\n",
    "\n",
    "my_list = [1, 2, 3, 2, 1]\n",
    "if is_palindrome(my_list):\n",
    "    print(\"The list is a palindrome.\")\n",
    "else:\n",
    "    print(\"The list is NOT a palindrome.\")\n"
   ]
  },
  {
   "cell_type": "code",
   "execution_count": 107,
   "id": "e36af860-2ad9-48cc-b349-03d473e067ef",
   "metadata": {},
   "outputs": [
    {
     "name": "stdout",
     "output_type": "stream",
     "text": [
      "Valid PAN\n"
     ]
    }
   ],
   "source": [
    "#Format: 5 uppercase letters + 4 digits + 1 uppercase letter  31\n",
    "\n",
    "# Input: \"ABCDE1234F\"  \n",
    "# Output: \"Valid PAN\"\n",
    "\n",
    "import re\n",
    "\n",
    "def validate_pan(pan):\n",
    "    pattern = r'^[A-Z]{5}[0-9]{4}[A-Z]$'\n",
    "    if re.match(pattern, pan):\n",
    "        return \"Valid PAN\"\n",
    "    else:\n",
    "        return \"Invalid PAN\"\n",
    "\n",
    "\n",
    "input_pan = \"ABCDE1234F\"\n",
    "print(validate_pan(input_pan))\n",
    "\n"
   ]
  },
  {
   "cell_type": "code",
   "execution_count": 65,
   "id": "98d4d668-ce11-4b30-841f-c2f28ff5633f",
   "metadata": {},
   "outputs": [
    {
     "name": "stdout",
     "output_type": "stream",
     "text": [
      "[1, 2, 3, 4, 5]\n"
     ]
    }
   ],
   "source": [
    "# .List Flattening  32\n",
    "# Input: [[1, 2], [3, 4], [5]]  \n",
    "# Output: [1, 2, 3, 4, 5]\n",
    "def flatten_list(lst):\n",
    "    return [item for sublist in lst for item in sublist]\n",
    "\n",
    "\n",
    "nested_list = [[1, 2], [3, 4], [5]]\n",
    "flat_list = flatten_list(nested_list)\n",
    "print(flat_list)\n",
    "\n",
    "\n"
   ]
  },
  {
   "cell_type": "code",
   "execution_count": 109,
   "id": "bb840494-9991-470b-9589-33c110c72f73",
   "metadata": {},
   "outputs": [
    {
     "name": "stdout",
     "output_type": "stream",
     "text": [
      "[121, 88]\n"
     ]
    }
   ],
   "source": [
    "# Find All Numbers That Are Palindromes in List  33\n",
    "# Input: [121, 133, 123, 88, 97]  \n",
    "# Output: [121, 133, 88]\n",
    "def find_palindromes(numbers):\n",
    "    palindromes = []\n",
    "    for num in numbers:\n",
    "        s = str(num)\n",
    "        if s == s[::-1]:\n",
    "            palindromes.append(num)\n",
    "    return palindromes\n",
    "\n",
    "\n",
    "nums = [121, 133, 123, 88, 97]\n",
    "print(find_palindromes(nums))\n"
   ]
  },
  {
   "cell_type": "code",
   "execution_count": 69,
   "id": "cd2f9cb5-0ad3-4af1-9323-ab1e33456fc5",
   "metadata": {},
   "outputs": [
    {
     "name": "stdout",
     "output_type": "stream",
     "text": [
      "Longest word: fantastic\n"
     ]
    }
   ],
   "source": [
    "# Find Longest Word in Sentence 34\n",
    "# Input: \"Python is fantastic and powerful\"  \n",
    "# Output: \"Longest word: fantastic\"\n",
    "\n",
    "def longest_word(sentence):\n",
    "    words = sentence.split()\n",
    "    longest = max(words, key=len)\n",
    "    return longest\n",
    "\n",
    "\n",
    "sentence = \"Python is fantastic and powerful\"\n",
    "print(\"Longest word:\", longest_word(sentence))"
   ]
  },
  {
   "cell_type": "code",
   "execution_count": 115,
   "id": "c739787b-38d7-450d-b084-92cd3421bb69",
   "metadata": {},
   "outputs": [
    {
     "name": "stdout",
     "output_type": "stream",
     "text": [
      "*****\n"
     ]
    }
   ],
   "source": [
    "# Password Masker  35\n",
    "# Input: \"mysecret\"  \n",
    "# Output: \"*******\"\n",
    "def mask_password(password):\n",
    "    return '*' * len(password)\n",
    "\n",
    "input_password = \"serma\"\n",
    "print(mask_password(input_password))\n"
   ]
  },
  {
   "cell_type": "code",
   "execution_count": 114,
   "id": "a5e18229-e58d-49da-bcf8-46869589bfeb",
   "metadata": {},
   "outputs": [
    {
     "name": "stdout",
     "output_type": "stream",
     "text": [
      "Contact: 9876543210\n"
     ]
    }
   ],
   "source": [
    "# Simple Contact Book (Dict based)  36\n",
    "# Input: {\"Ravi\": \"9876543210\", \"Anu\": \"9911223344\"}  \n",
    "# Search: \"Anu\"  \n",
    "# Output: \"Contact: 9911223344\"\n",
    "\n",
    "\n",
    "def search_contact(contact_book, name):\n",
    "    if name in contact_book:\n",
    "        return f\"Contact: {contact_book[name]}\"\n",
    "    else:\n",
    "        return \"Contact not found.\"\n",
    "\n",
    "\n",
    "contacts = {\"serma\": \"9876543210\", \"mani\": \"9911223344\"}\n",
    "\n",
    "\n",
    "search_name = \"serma\"\n",
    "print(search_contact(contacts, search_name))"
   ]
  },
  {
   "cell_type": "code",
   "execution_count": 112,
   "id": "ade40161-ae7a-4fb6-ac75-d1cb7ea2cc90",
   "metadata": {},
   "outputs": [
    {
     "name": "stdout",
     "output_type": "stream",
     "text": [
      "['A', 'D', 'B', 'A', 'B']\n"
     ]
    }
   ],
   "source": [
    "# Marks to Grade Conversion for N Students  37\n",
    "# Task: Input multiple students and assign grades A-F.\n",
    "# Input: [85, 40, 77, 92, 60]  \n",
    "# Output: ['A', 'F', 'B', 'A', 'C']\n",
    "def marks_to_grades(marks):\n",
    "    grades = []\n",
    "    for mark in marks:\n",
    "        if mark >= 80:\n",
    "            grades.append('A')\n",
    "        elif mark >= 60:\n",
    "            grades.append('B')\n",
    "        elif mark >= 50:\n",
    "            grades.append('C')\n",
    "        elif mark >= 35:\n",
    "            grades.append('D')\n",
    "        else:\n",
    "            grades.append('F')\n",
    "    return grades\n",
    "\n",
    "\n",
    "marks_list = [85, 40, 77, 92, 60]\n",
    "grades_list = marks_to_grades(marks_list)\n",
    "print(grades_list)\n",
    "\n"
   ]
  },
  {
   "cell_type": "code",
   "execution_count": null,
   "id": "e18849f5-557f-40f5-a002-4ee98737b530",
   "metadata": {},
   "outputs": [],
   "source": []
  }
 ],
 "metadata": {
  "kernelspec": {
   "display_name": "Python [conda env:base] *",
   "language": "python",
   "name": "conda-base-py"
  },
  "language_info": {
   "codemirror_mode": {
    "name": "ipython",
    "version": 3
   },
   "file_extension": ".py",
   "mimetype": "text/x-python",
   "name": "python",
   "nbconvert_exporter": "python",
   "pygments_lexer": "ipython3",
   "version": "3.12.7"
  }
 },
 "nbformat": 4,
 "nbformat_minor": 5
}
