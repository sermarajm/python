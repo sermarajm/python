{
 "cells": [
  {
   "cell_type": "markdown",
   "id": "86e4ccb9",
   "metadata": {},
   "source": [
    "# Python Lists\n"
   ]
  },
  {
   "cell_type": "code",
   "execution_count": null,
   "id": "bcc9f19b",
   "metadata": {},
   "outputs": [],
   "source": [
    "### Lists are used to store multiple items in a single variable.\n",
    "\n",
    "Lists are one of 4 built-in data types in Python used to store collections of data, the other 3 are Tuple, Set, and Dictionary, all with different qualities and usage.\n",
    "\n",
    "Lists are created using square brackets:"
   ]
  },
  {
   "cell_type": "code",
   "execution_count": 1,
   "id": "fa8f2bfb",
   "metadata": {},
   "outputs": [
    {
     "name": "stdout",
     "output_type": "stream",
     "text": [
      "['hi', 'hello', 'welcome']\n"
     ]
    }
   ],
   "source": [
    "mylist = [\"hi\", \"hello\", \"welcome\"]\n",
    "print(mylist)"
   ]
  },
  {
   "cell_type": "markdown",
   "id": "4efbb04d",
   "metadata": {},
   "source": [
    "## Allow Duplicates\n",
    "## mutable"
   ]
  },
  {
   "cell_type": "code",
   "execution_count": 3,
   "id": "dd68cf36",
   "metadata": {},
   "outputs": [
    {
     "name": "stdout",
     "output_type": "stream",
     "text": [
      "['hi', 'hello', 'welcome', 'welcome']\n"
     ]
    }
   ],
   "source": [
    "mylist = [\"hi\", \"hello\", \"welcome\",\"welcome\"]\n",
    "print(mylist)"
   ]
  },
  {
   "cell_type": "code",
   "execution_count": 4,
   "id": "26b950fe",
   "metadata": {},
   "outputs": [
    {
     "name": "stdout",
     "output_type": "stream",
     "text": [
      "4\n"
     ]
    }
   ],
   "source": [
    "print(len(mylist))"
   ]
  },
  {
   "cell_type": "code",
   "execution_count": 2,
   "id": "6a8f351e",
   "metadata": {},
   "outputs": [
    {
     "name": "stdout",
     "output_type": "stream",
     "text": [
      "['hi', 1, 0.1, (1+4j)]\n"
     ]
    }
   ],
   "source": [
    "mylist = [\"hi\", 1, 0.1,1+4j]\n",
    "print(mylist)"
   ]
  },
  {
   "cell_type": "code",
   "execution_count": 6,
   "id": "7d6ce375",
   "metadata": {},
   "outputs": [
    {
     "data": {
      "text/plain": [
       "list"
      ]
     },
     "execution_count": 6,
     "metadata": {},
     "output_type": "execute_result"
    }
   ],
   "source": [
    "type(mylist)"
   ]
  },
  {
   "cell_type": "markdown",
   "id": "c5e14b74",
   "metadata": {},
   "source": [
    "## Access Items\n"
   ]
  },
  {
   "cell_type": "code",
   "execution_count": 2,
   "id": "f76a742c",
   "metadata": {},
   "outputs": [
    {
     "name": "stdout",
     "output_type": "stream",
     "text": [
      "hi\n"
     ]
    }
   ],
   "source": [
    "mylist = [\"hi\", \"hello\", \"welcome\",\"welcome\"]\n",
    "print(mylist[0])"
   ]
  },
  {
   "cell_type": "code",
   "execution_count": 10,
   "id": "811123a1",
   "metadata": {},
   "outputs": [
    {
     "name": "stdout",
     "output_type": "stream",
     "text": [
      "welcome\n"
     ]
    }
   ],
   "source": [
    "mylist = [\"hi\", \"hello\", \"welcome\",\"welcome\"]\n",
    "print(mylist[-1])"
   ]
  },
  {
   "cell_type": "code",
   "execution_count": 13,
   "id": "82ea6351",
   "metadata": {},
   "outputs": [
    {
     "name": "stdout",
     "output_type": "stream",
     "text": [
      "['hello', 'welcome']\n"
     ]
    }
   ],
   "source": [
    "mylist = [\"hi\", \"hello\", \"welcome\",\"welcome\"]\n",
    "print(mylist[1:3])"
   ]
  },
  {
   "cell_type": "code",
   "execution_count": 1,
   "id": "ad6b98cb",
   "metadata": {},
   "outputs": [
    {
     "name": "stdout",
     "output_type": "stream",
     "text": [
      "1\n"
     ]
    }
   ],
   "source": [
    "print(True*True)"
   ]
  },
  {
   "cell_type": "code",
   "execution_count": 6,
   "id": "6d7fd3e8-af9b-4b59-8d09-73db41cd57e8",
   "metadata": {},
   "outputs": [
    {
     "name": "stdout",
     "output_type": "stream",
     "text": [
      "65\n"
     ]
    }
   ],
   "source": [
    "k=[1,2,3,[4,[78,65,76],5],7,8]\n",
    "print(k[3][1][1])"
   ]
  },
  {
   "cell_type": "code",
   "execution_count": null,
   "id": "93839b3b-5816-4717-97a4-0c8129a66620",
   "metadata": {},
   "outputs": [],
   "source": []
  }
 ],
 "metadata": {
  "kernelspec": {
   "display_name": "Python 3 (ipykernel)",
   "language": "python",
   "name": "python3"
  },
  "language_info": {
   "codemirror_mode": {
    "name": "ipython",
    "version": 3
   },
   "file_extension": ".py",
   "mimetype": "text/x-python",
   "name": "python",
   "nbconvert_exporter": "python",
   "pygments_lexer": "ipython3",
   "version": "3.12.4"
  }
 },
 "nbformat": 4,
 "nbformat_minor": 5
}
