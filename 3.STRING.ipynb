{
 "cells": [
  {
   "cell_type": "markdown",
   "id": "d9f49235",
   "metadata": {},
   "source": [
    "<font size=\"5\"> STRING </font>"
   ]
  },
  {
   "cell_type": "code",
   "execution_count": null,
   "id": "5cc661ff",
   "metadata": {},
   "outputs": [],
   "source": [
    "print(\"hi\")"
   ]
  },
  {
   "cell_type": "code",
   "execution_count": null,
   "id": "a8c15096",
   "metadata": {},
   "outputs": [],
   "source": [
    "print('hi')"
   ]
  },
  {
   "cell_type": "code",
   "execution_count": null,
   "id": "1753b39c-7623-48de-afbc-0aa50c547553",
   "metadata": {},
   "outputs": [],
   "source": [
    "k=\"hi how are you ,i am fine\"\n",
    "print(k)"
   ]
  },
  {
   "cell_type": "markdown",
   "id": "8167f44a",
   "metadata": {},
   "source": [
    "## Multiline string"
   ]
  },
  {
   "cell_type": "code",
   "execution_count": 2,
   "id": "02612518",
   "metadata": {},
   "outputs": [
    {
     "name": "stdout",
     "output_type": "stream",
     "text": [
      " Late at night, Emma found an old, \n",
      "    dusty key hidden under a loose floorboard.\n",
      "    Curiosity led her to the attic, \n",
      "    where she discovered a locked chest that seemed to hum with energy. \n",
      "    As she turned the key, the chest creaked open, \n",
      "    revealing a portal to a world she never imagined.\n"
     ]
    }
   ],
   "source": [
    "k=\"\"\" Late at night, Emma found an old, \n",
    "    dusty key hidden under a loose floorboard.\n",
    "    Curiosity led her to the attic, \n",
    "    where she discovered a locked chest that seemed to hum with energy. \n",
    "    As she turned the key, the chest creaked open, \n",
    "    revealing a portal to a world she never imagined.\"\"\"\n",
    "\n",
    "print(k)"
   ]
  },
  {
   "cell_type": "markdown",
   "id": "4ccc8346",
   "metadata": {},
   "source": [
    "## string length"
   ]
  },
  {
   "cell_type": "code",
   "execution_count": 5,
   "id": "91553c0f",
   "metadata": {},
   "outputs": [
    {
     "name": "stdout",
     "output_type": "stream",
     "text": [
      "16\n"
     ]
    }
   ],
   "source": [
    "k=\"hi how are you\"\n",
    "print(len(k))"
   ]
  },
  {
   "cell_type": "markdown",
   "id": "588d0c85",
   "metadata": {},
   "source": [
    "## string indexing"
   ]
  },
  {
   "cell_type": "code",
   "execution_count": 8,
   "id": "e6266902",
   "metadata": {},
   "outputs": [
    {
     "name": "stdout",
     "output_type": "stream",
     "text": [
      "d\n"
     ]
    }
   ],
   "source": [
    "b = \"Hello,  World!\"\n",
    "print(b[12])"
   ]
  },
  {
   "cell_type": "code",
   "execution_count": 12,
   "id": "b2e33fc9",
   "metadata": {},
   "outputs": [
    {
     "name": "stdout",
     "output_type": "stream",
     "text": [
      "r\n"
     ]
    }
   ],
   "source": [
    "b = \"Hello, World!\"\n",
    "print(b[-4])"
   ]
  },
  {
   "cell_type": "markdown",
   "id": "f77d5690",
   "metadata": {},
   "source": [
    "## string slicing"
   ]
  },
  {
   "cell_type": "code",
   "execution_count": 21,
   "id": "763f0832",
   "metadata": {},
   "outputs": [
    {
     "name": "stdout",
     "output_type": "stream",
     "text": [
      "welcom\n"
     ]
    }
   ],
   "source": [
    "b = \"welcome, besant!\"\n",
    "print(b[:6])"
   ]
  },
  {
   "cell_type": "code",
   "execution_count": 6,
   "id": "a4cc2499-e6f2-407c-b24b-a5dec5933171",
   "metadata": {},
   "outputs": [
    {
     "data": {
      "text/plain": [
       "'ython'"
      ]
     },
     "execution_count": 6,
     "metadata": {},
     "output_type": "execute_result"
    }
   ],
   "source": [
    "b=\"python\"\n",
    "b[1:]"
   ]
  },
  {
   "cell_type": "code",
   "execution_count": 7,
   "id": "250db104",
   "metadata": {},
   "outputs": [
    {
     "name": "stdout",
     "output_type": "stream",
     "text": [
      "llo, World!\n"
     ]
    }
   ],
   "source": [
    "b = \"Hello, World!\"\n",
    "print(b[2:])"
   ]
  },
  {
   "cell_type": "code",
   "execution_count": 8,
   "id": "6d99fd3a",
   "metadata": {},
   "outputs": [
    {
     "name": "stdout",
     "output_type": "stream",
     "text": [
      "Hello,\n"
     ]
    }
   ],
   "source": [
    "b = \"Hello, World!\"\n",
    "print(b[:6])"
   ]
  },
  {
   "cell_type": "code",
   "execution_count": 28,
   "id": "420df04a",
   "metadata": {},
   "outputs": [
    {
     "name": "stdout",
     "output_type": "stream",
     "text": [
      "World\n",
      "World\n"
     ]
    }
   ],
   "source": [
    "b = \"Hello, World!\"\n",
    "print(b[7:12])\n",
    "print(b[-6:-1])"
   ]
  },
  {
   "cell_type": "code",
   "execution_count": 32,
   "id": "e18c0f6b",
   "metadata": {},
   "outputs": [
    {
     "name": "stdout",
     "output_type": "stream",
     "text": [
      "orl\n"
     ]
    }
   ],
   "source": [
    "b = \"welcome, World!\"\n",
    "print(b[-5:-2])"
   ]
  },
  {
   "cell_type": "code",
   "execution_count": null,
   "id": "2b163610",
   "metadata": {},
   "outputs": [],
   "source": [
    "b = \"Hello, World!\"\n",
    "print(b[-5:])"
   ]
  },
  {
   "cell_type": "markdown",
   "id": "e459dd6b",
   "metadata": {},
   "source": [
    "## string modify"
   ]
  },
  {
   "cell_type": "code",
   "execution_count": 34,
   "id": "cf3b61cd",
   "metadata": {},
   "outputs": [
    {
     "name": "stdout",
     "output_type": "stream",
     "text": [
      "HELLO, WORLD!\n"
     ]
    }
   ],
   "source": [
    "a = \"Hello, World!\"\n",
    "print(a.upper())\n"
   ]
  },
  {
   "cell_type": "code",
   "execution_count": 36,
   "id": "37774bcc",
   "metadata": {},
   "outputs": [
    {
     "name": "stdout",
     "output_type": "stream",
     "text": [
      "Hello, world!\n"
     ]
    }
   ],
   "source": [
    "a = \"heLlo, World!\"\n",
    "print(a.capitalize())"
   ]
  },
  {
   "cell_type": "code",
   "execution_count": 14,
   "id": "f9312c5d",
   "metadata": {},
   "outputs": [
    {
     "name": "stdout",
     "output_type": "stream",
     "text": [
      "hello, world!\n"
     ]
    }
   ],
   "source": [
    "a = \"Hello, World!\"\n",
    "print(a.lower())"
   ]
  },
  {
   "cell_type": "code",
   "execution_count": 17,
   "id": "4a9fb41a",
   "metadata": {},
   "outputs": [
    {
     "name": "stdout",
     "output_type": "stream",
     "text": [
      "Hello, World!\n"
     ]
    }
   ],
   "source": [
    "a = \"    Hello, World!    \"\n",
    "print(a.strip())"
   ]
  },
  {
   "cell_type": "code",
   "execution_count": 31,
   "id": "050d695e",
   "metadata": {},
   "outputs": [
    {
     "name": "stdout",
     "output_type": "stream",
     "text": [
      "21\n",
      "13\n",
      "Hello, World!\n"
     ]
    }
   ],
   "source": [
    "a = \"    Hello, World!    \"\n",
    "b=a.strip()\n",
    "print(len(a))\n",
    "print(len(b))\n",
    "print(b)"
   ]
  },
  {
   "cell_type": "code",
   "execution_count": 42,
   "id": "dcdc4b46",
   "metadata": {},
   "outputs": [
    {
     "name": "stdout",
     "output_type": "stream",
     "text": [
      "['Hello', 'World']\n"
     ]
    }
   ],
   "source": [
    "a= \"Hello,World\"\n",
    "print(a.split(\",\"))\n"
   ]
  },
  {
   "cell_type": "code",
   "execution_count": 40,
   "id": "67201aca-3d19-4c59-a582-fecd4450603f",
   "metadata": {},
   "outputs": [
    {
     "name": "stdout",
     "output_type": "stream",
     "text": [
      "['hi', 'hello']\n"
     ]
    }
   ],
   "source": [
    "a=\"hi  hello\"\n",
    "print(a.split())\n",
    "      "
   ]
  },
  {
   "cell_type": "code",
   "execution_count": null,
   "id": "5f6854a1",
   "metadata": {},
   "outputs": [],
   "source": [
    "a = \"Hello, World!\"\n",
    "print(a[0])\n",
    "b=a.split()\n",
    "print(b[0])"
   ]
  },
  {
   "cell_type": "code",
   "execution_count": 43,
   "id": "60aaeb0b",
   "metadata": {},
   "outputs": [
    {
     "name": "stdin",
     "output_type": "stream",
     "text": [
      "enter your name raja\n",
      "enter your place khSGVYI\n"
     ]
    },
    {
     "name": "stdout",
     "output_type": "stream",
     "text": [
      "i am raja from khSGVYI\n"
     ]
    }
   ],
   "source": [
    "\n",
    "\n",
    "a=input(\"enter your name\")\n",
    "b=input(\"enter your place\")\n",
    "k=f\"i am {a} from {b}\"\n",
    "print(k)\n",
    "\n"
   ]
  },
  {
   "cell_type": "code",
   "execution_count": null,
   "id": "b9554b60-3552-423f-9ec4-5456a40daf8f",
   "metadata": {},
   "outputs": [],
   "source": [
    "name=input(\"enter your name\")\n",
    "native=input(\"enter your native\")\n",
    "\n",
    "out=f\"hi i am {name},from {native}\"\n",
    "print(out)"
   ]
  },
  {
   "cell_type": "code",
   "execution_count": null,
   "id": "e0113e79-9f96-42d7-af95-a22cb357149e",
   "metadata": {},
   "outputs": [],
   "source": []
  }
 ],
 "metadata": {
  "kernelspec": {
   "display_name": "Python 3 (ipykernel)",
   "language": "python",
   "name": "python3"
  },
  "language_info": {
   "codemirror_mode": {
    "name": "ipython",
    "version": 3
   },
   "file_extension": ".py",
   "mimetype": "text/x-python",
   "name": "python",
   "nbconvert_exporter": "python",
   "pygments_lexer": "ipython3",
   "version": "3.12.4"
  }
 },
 "nbformat": 4,
 "nbformat_minor": 5
}
