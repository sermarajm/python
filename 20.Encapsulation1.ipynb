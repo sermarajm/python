{
 "cells": [
  {
   "cell_type": "markdown",
   "id": "bb7254a5-9672-4855-ab53-785b7b4d7e76",
   "metadata": {},
   "source": [
    "# Encapsulation"
   ]
  },
  {
   "cell_type": "markdown",
   "id": "df20c0be-cda3-4a6c-bacc-9c7577694a7f",
   "metadata": {},
   "source": [
    "## 1. Public Access Modifier\n"
   ]
  },
  {
   "cell_type": "markdown",
   "id": "8f9123aa-751c-41fa-9dba-3b3f528d262f",
   "metadata": {},
   "source": [
    "### Syntax: self.variable\n",
    "\n",
    "### Accessible: From anywhere (inside and outside the class)"
   ]
  },
  {
   "cell_type": "code",
   "execution_count": 13,
   "id": "ec9a03f9-ad8a-42b9-b5b7-1e556651b0c2",
   "metadata": {},
   "outputs": [
    {
     "ename": "AttributeError",
     "evalue": "'Student' object has no attribute 'name'",
     "output_type": "error",
     "traceback": [
      "\u001b[1;31m---------------------------------------------------------------------------\u001b[0m",
      "\u001b[1;31mAttributeError\u001b[0m                            Traceback (most recent call last)",
      "Cell \u001b[1;32mIn[13], line 8\u001b[0m\n\u001b[0;32m      6\u001b[0m \u001b[38;5;66;03m# print(stu.name)  # ✅ Accessible outside the class\u001b[39;00m\n\u001b[0;32m      7\u001b[0m stu\u001b[38;5;241m.\u001b[39m__name\u001b[38;5;241m=\u001b[39m\u001b[38;5;124m\"\u001b[39m\u001b[38;5;124mhello\u001b[39m\u001b[38;5;124m\"\u001b[39m\n\u001b[1;32m----> 8\u001b[0m \u001b[38;5;28mprint\u001b[39m(stu\u001b[38;5;241m.\u001b[39mname)\n",
      "\u001b[1;31mAttributeError\u001b[0m: 'Student' object has no attribute 'name'"
     ]
    }
   ],
   "source": [
    "class Student:\n",
    "    def __init__(self, name):\n",
    "        self.name = name  # Public attribute\n",
    "\n",
    "stu = Student(\"abc\")\n",
    "print(stu.name)  # ✅ Accessible outside the class\n",
    "stu.name=\"hello\"\n",
    "print(stu.name)"
   ]
  },
  {
   "cell_type": "markdown",
   "id": "f45492dd-f6e5-42c9-b25b-b316295130f3",
   "metadata": {},
   "source": [
    " ## 2.Protected Access Modifier\n"
   ]
  },
  {
   "cell_type": "markdown",
   "id": "afe55090-cf37-4cc8-bf29-4c718996de2f",
   "metadata": {},
   "source": [
    "### Syntax: self._variable (single underscore)\n",
    "\n",
    "### Accessible: From inside the class and subclass (child class)\n",
    "\n",
    "### ⚠️ Not strictly private — it's a convention to indicate \"for internal use\""
   ]
  },
  {
   "cell_type": "code",
   "execution_count": 4,
   "id": "1041272d-62c4-4926-9874-9f0cbe66c900",
   "metadata": {},
   "outputs": [
    {
     "name": "stdout",
     "output_type": "stream",
     "text": [
      "Saravanan's salary is 50000\n",
      "50000\n"
     ]
    }
   ],
   "source": [
    "class Employee:\n",
    "    def __init__(self, name, salary):\n",
    "        self.name = name\n",
    "        self._salary = salary  # Protected attribute\n",
    "\n",
    "class Manager(Employee):\n",
    "    def show_salary(self):\n",
    "        print(f\"{self.name}'s salary is {self._salary}\")  # ✅ Can access _salary\n",
    "\n",
    "mgr = Manager(\"Saravanan\", 50000)\n",
    "mgr.show_salary()         # ✅ Accessible inside subclass\n",
    "print(mgr._salary)        # ⚠️ Still accessible, but should be avoided\n"
   ]
  },
  {
   "cell_type": "markdown",
   "id": "868880a8-73d5-49a0-99a8-4f702324345c",
   "metadata": {},
   "source": [
    "## 3. Private Access Modifier"
   ]
  },
  {
   "cell_type": "markdown",
   "id": "8aff5e6a-aa3b-4033-bba8-33529582df5b",
   "metadata": {},
   "source": [
    "### Syntax: self.__variable (double underscore)\n",
    "\n",
    "### Accessible: Only inside the class\n",
    "\n",
    "### Python uses name mangling to prevent external access."
   ]
  },
  {
   "cell_type": "code",
   "execution_count": 11,
   "id": "2089472e-371c-4cbd-b71c-25b514baf329",
   "metadata": {},
   "outputs": [
    {
     "name": "stdout",
     "output_type": "stream",
     "text": [
      "1000\n"
     ]
    }
   ],
   "source": [
    "class BankAccount:\n",
    "    def __init__(self, balance):\n",
    "        self.__balance = balance  # Private attribute\n",
    "\n",
    "    def show_balance(self):\n",
    "        print(f\"Balance: {self.__balance}\")\n",
    "\n",
    "    def deposit(self, amount):\n",
    "        if amount > 0:\n",
    "            self.__balance += amount\n",
    "\n",
    "acc = BankAccount(1000)\n",
    "# acc.__balance=789999\n",
    "acc.show_balance()       # ✅ Allowed via method\n",
    "acc.deposit(500)\n",
    "acc.show_balance()\n",
    "\n",
    "\n",
    " # print(acc.__balance)   ❌ Error: Cannot access private variable directly\n"
   ]
  },
  {
   "cell_type": "raw",
   "id": "d374db21-f4d6-4d37-8ce8-e08c606ba68e",
   "metadata": {},
   "source": [
    "| Access Level | Syntax        | Access Scope          | Convention/Rule     |\n",
    "| ------------ | ------------- | --------------------- | ------------------- |\n",
    "| Public       | `self.name`   | Everywhere            | Open to all         |\n",
    "| Protected    | `self._name`  | Class + Subclass      | Use with caution    |\n",
    "| Private      | `self.__name` | Only inside the class | Use for full hiding |\n"
   ]
  },
  {
   "cell_type": "code",
   "execution_count": 2,
   "id": "4b869320-d995-4c70-b77b-e5454d5efe7f",
   "metadata": {},
   "outputs": [
    {
     "name": "stdout",
     "output_type": "stream",
     "text": [
      "50000\n"
     ]
    }
   ],
   "source": [
    "class Employee:\n",
    "    def __init__(self, name, salary):\n",
    "        self.name = name\n",
    "        self.__salary = salary  # Private attribute\n",
    "\n",
    "    # Getter method\n",
    "    def get_salary(self):\n",
    "        return self.__salary\n",
    "\n",
    "    # Setter method\n",
    "    def set_salary(self, new_salary):\n",
    "        if new_salary > 0:\n",
    "            self.__salary = new_salary\n",
    "        else:\n",
    "            print(\"Invalid salary!\")\n",
    "\n",
    "# Usage\n",
    "emp = Employee(\"David\", 50000)\n",
    "print(emp.get_salary())  # ✅ Output: 50000\n",
    "\n",
    "# emp.set_salary(55000)  # Updating salary\n",
    "# print(emp.get_salary())  # ✅ Output: 55000\n",
    "\n",
    "# emp.set_salary(-1000)  # ❌ Output: Invalid salary!\n"
   ]
  },
  {
   "cell_type": "code",
   "execution_count": 1,
   "id": "29e9bdb9-4e03-4ae5-8de3-bbdaec2ecaee",
   "metadata": {},
   "outputs": [
    {
     "name": "stdout",
     "output_type": "stream",
     "text": [
      "Raja\n",
      "50000\n",
      "55000\n"
     ]
    }
   ],
   "source": [
    "class Employee:\n",
    "    def __init__(self, name, salary):\n",
    "        self.name = name         # public variable\n",
    "        self.__salary = salary   # private variable (with __)\n",
    "\n",
    "    def get_salary(self):       # getter method\n",
    "        return self.__salary\n",
    "\n",
    "    def set_salary(self, amount):  # setter method\n",
    "        if amount > 0:\n",
    "            self.__salary = amount\n",
    "        else:\n",
    "            print(\"Invalid salary\")\n",
    "\n",
    "emp = Employee(\"Raja\", 50000)\n",
    "print(emp.name)            # ✅ Accessible\n",
    "print(emp.get_salary())    # ✅ Accessed via getter\n",
    "\n",
    "emp.set_salary(55000)      # ✅ Modified via setter\n",
    "print(emp.get_salary())\n",
    "\n",
    "# print(emp.__salary)      ❌ Error: private variable\n"
   ]
  },
  {
   "cell_type": "code",
   "execution_count": 12,
   "id": "02253fad-0e8c-4070-b8ad-ce2665cfb8ef",
   "metadata": {},
   "outputs": [
    {
     "name": "stdout",
     "output_type": "stream",
     "text": [
      "EEE\n"
     ]
    }
   ],
   "source": [
    "class university:\n",
    "    def college(self):\n",
    "        print(\"abc college\")\n",
    "        \n",
    "        \n",
    "    def __department(self):\n",
    "        print(\"EEE\")\n",
    "\n",
    "    def depatments(self):\n",
    "        self.__department()\n",
    "        # print(\"ECE\")\n",
    "        \n",
    "uni=university()\n",
    "uni.depatments()\n"
   ]
  },
  {
   "cell_type": "code",
   "execution_count": null,
   "id": "84808453-a41c-445d-b703-39ef6760983c",
   "metadata": {},
   "outputs": [],
   "source": []
  }
 ],
 "metadata": {
  "kernelspec": {
   "display_name": "Python 3 (ipykernel)",
   "language": "python",
   "name": "python3"
  },
  "language_info": {
   "codemirror_mode": {
    "name": "ipython",
    "version": 3
   },
   "file_extension": ".py",
   "mimetype": "text/x-python",
   "name": "python",
   "nbconvert_exporter": "python",
   "pygments_lexer": "ipython3",
   "version": "3.12.4"
  }
 },
 "nbformat": 4,
 "nbformat_minor": 5
}
