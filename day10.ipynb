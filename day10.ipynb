{
 "cells": [
  {
   "cell_type": "code",
   "execution_count": 2,
   "id": "65d2770a-82ae-4e5a-a8b2-634e6d60eb4c",
   "metadata": {},
   "outputs": [
    {
     "name": "stdout",
     "output_type": "stream",
     "text": [
      "0\n",
      "1\n",
      "2\n",
      "3\n",
      "4\n",
      "5\n",
      "6\n",
      "7\n",
      "8\n",
      "9\n"
     ]
    }
   ],
   "source": [
    "for a in range(10):\n",
    " print(a)"
   ]
  },
  {
   "cell_type": "code",
   "execution_count": 27,
   "id": "99296ab2-53b4-4676-872d-846bb8a30339",
   "metadata": {},
   "outputs": [
    {
     "name": "stdout",
     "output_type": "stream",
     "text": [
      "1\n",
      "22\n",
      "33\n",
      "44\n"
     ]
    }
   ],
   "source": [
    "l=[1,22,33,44]\n",
    "for i in l:\n",
    "     print(i)"
   ]
  },
  {
   "cell_type": "code",
   "execution_count": 6,
   "id": "c605756a-fb48-4b41-80a3-812eb3cd4ccf",
   "metadata": {},
   "outputs": [
    {
     "name": "stdout",
     "output_type": "stream",
     "text": [
      "apple\n",
      "banana\n",
      "cherry\n"
     ]
    }
   ],
   "source": [
    "fruits = [\"apple\",\"banana\",\"cherry\"]\n",
    "for i in fruits:\n",
    "    print(i)"
   ]
  },
  {
   "cell_type": "code",
   "execution_count": 18,
   "id": "406ad512-4f98-4035-8e2d-673785d17cdf",
   "metadata": {},
   "outputs": [
    {
     "name": "stdout",
     "output_type": "stream",
     "text": [
      "2\n",
      "4\n",
      "9\n"
     ]
    }
   ],
   "source": [
    "k=[2,4,9,10,11,12,13]\n",
    "for i in k:\n",
    "    if i==10:\n",
    "        break\n",
    "    print(i)   "
   ]
  },
  {
   "cell_type": "code",
   "execution_count": 20,
   "id": "f6ac1d68-aed5-4243-92a1-0f6078e22a3c",
   "metadata": {},
   "outputs": [
    {
     "name": "stdout",
     "output_type": "stream",
     "text": [
      "9\n",
      "11\n",
      "13\n"
     ]
    }
   ],
   "source": [
    "k=[2,4,9,10,11,12,13]\n",
    "for i in k:\n",
    "    if i%2==1:\n",
    "        print(i)"
   ]
  },
  {
   "cell_type": "code",
   "execution_count": 23,
   "id": "b1a5bf61-2022-49aa-bfff-f2e71d5b4cea",
   "metadata": {},
   "outputs": [
    {
     "name": "stdout",
     "output_type": "stream",
     "text": [
      "[2, 4, 10, 12]\n",
      "[9, 11, 13]\n"
     ]
    }
   ],
   "source": [
    "k=[2,4,9,10,11,12,13]\n",
    "odd=[]\n",
    "even=[]\n",
    "for i in k:\n",
    "    if i%2==0:\n",
    "        odd.append(i)\n",
    "    else:\n",
    "       even.append(i)\n",
    "print(odd)\n",
    "print(even)\n",
    "    "
   ]
  },
  {
   "cell_type": "code",
   "execution_count": 26,
   "id": "114d06d8-03f6-470e-9623-070ceae53649",
   "metadata": {},
   "outputs": [
    {
     "name": "stdout",
     "output_type": "stream",
     "text": [
      "7\n"
     ]
    }
   ],
   "source": [
    "k=[2,4,9,10,11,12,13]\n",
    "a=0\n",
    "for i in k:\n",
    "    a+=1\n",
    "print(a)"
   ]
  },
  {
   "cell_type": "code",
   "execution_count": null,
   "id": "edfe854a-8e71-4024-87cd-bc38a9ccf361",
   "metadata": {},
   "outputs": [],
   "source": []
  }
 ],
 "metadata": {
  "kernelspec": {
   "display_name": "Python 3 (ipykernel)",
   "language": "python",
   "name": "python3"
  },
  "language_info": {
   "codemirror_mode": {
    "name": "ipython",
    "version": 3
   },
   "file_extension": ".py",
   "mimetype": "text/x-python",
   "name": "python",
   "nbconvert_exporter": "python",
   "pygments_lexer": "ipython3",
   "version": "3.12.7"
  }
 },
 "nbformat": 4,
 "nbformat_minor": 5
}
